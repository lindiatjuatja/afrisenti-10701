{
 "cells": [
  {
   "cell_type": "code",
   "execution_count": null,
   "metadata": {},
   "outputs": [],
   "source": [
    "# Step 1: Get the data\n",
    "\n",
    "import os\n",
    "colab = False\n",
    "if colab:\n",
    "    from google.colab import drive\n",
    "    drive.mount('/content/drive')\n",
    "    proj_folder = '/content/drive/MyDrive'\n",
    "else:\n",
    "    proj_folder = os.getcwd()\n",
    "\n",
    "%cd {proj_folder}\n",
    "\n",
    "\n",
    "PROJECT_DIR = f'{proj_folder}/afrisent-semeval-2023'\n",
    "if not os.path.isdir(PROJECT_DIR):\n",
    "  %run Make_Datasets.py"
   ]
  },
  {
   "cell_type": "code",
   "execution_count": null,
   "metadata": {},
   "outputs": [],
   "source": [
    "# Run experiments on codes: 'am', 'dz', 'ha', 'ig', 'ma', 'pcm', 'pt', 'sw', 'yo'"
   ]
  },
  {
   "cell_type": "code",
   "execution_count": 1,
   "metadata": {
    "scrolled": true
   },
   "outputs": [
    {
     "name": "stdout",
     "output_type": "stream",
     "text": [
      "Language Code:  am\n",
      "NOTE: Redirects are currently not supported in Windows or MacOs.\n",
      "['neutral', 'positive', 'negative']\n",
      "[00:00:00] Pre-processing sequences                 ████████ 0        /        0\n",
      "\u001b[2K\u001b[1B\u001b[1A[00:00:00] Pre-processing sequences                 ████████ 3000     /        0\n",
      "\u001b[2K\u001b[1B\u001b[1A[00:00:00] Pre-processing sequences                 ████████ 0        /        0\n",
      "[00:00:00] Tokenize words                           ████████ 0        /        0\n",
      "\u001b[2K\u001b[1B\u001b[1A[00:00:00] Tokenize words                           ████████ 29855    /    29855\n",
      "\n",
      "\u001b[2K\u001b[1B\u001b[1A[00:00:00] Count pairs                              ████░░░░ 15499    /    29855\n",
      "\u001b[2K\u001b[1B\u001b[1A[00:00:00] Count pairs                              ███████░ 29502    /    29855\n",
      "\u001b[2K\u001b[1B\u001b[1A[00:00:00] Count pairs                              ████████ 29855    /    29855\n",
      "\n",
      "\u001b[2K\u001b[1B\u001b[1A[00:00:00] Compute merges                           ░░░░░░░░ 1000     /   100000\n",
      "\u001b[2K\u001b[1B\u001b[1A[00:00:00] Compute merges                           ░░░░░░░░ 3000     /   100000\n",
      "\u001b[2K\u001b[1B\u001b[1A[00:00:00] Compute merges                           ░░░░░░░░ 5000     /   100000\n",
      "\u001b[2K\u001b[1B\u001b[1A[00:00:00] Compute merges                           ████████ 6068     /     6068\n",
      "\n",
      "huggingface/tokenizers: The current process just got forked, after parallelism has already been used. Disabling parallelism to avoid deadlocks...\n",
      "To disable this warning, you can either:\n",
      "\t- Avoid using `tokenizers` before the fork if possible\n",
      "\t- Explicitly set the environment variable TOKENIZERS_PARALLELISM=(true | false)\n",
      "Running tokenizer on train dataset: 100%|█████████| 5/5 [00:11<00:00,  2.38s/ba]\n",
      "Running tokenizer on validation dataset: 100%|████| 1/1 [00:01<00:00,  1.73s/ba]\n",
      "Running tokenizer on validation dataset: 100%|████| 2/2 [00:03<00:00,  1.82s/ba]\n",
      "0.5338345864661654 0.3715907415597818 0.3333333333333333\n",
      "0.23642439431913115 0.09041635620582988 0.3333333333333333\n",
      "0.2297410192147034 0.08584073408158077 0.3333333333333333\n",
      "<class 'sklearn.naive_bayes.MultinomialNB'>\n",
      "\n",
      "    unigram counts\n",
      "    Train score: 0.78\n",
      "    Eval score: 0.52\n",
      "    Balanced Accuracy: 0.453\n",
      "    Weighted Test F1: 0.511\n",
      "    Params: {'alpha': 0.1}\n",
      "    \n",
      "\n",
      "    unigram tf-idf\n",
      "    Train score: 0.756\n",
      "    Eval score: 0.541\n",
      "    Balanced Accuracy: 0.411\n",
      "    Weighted Test F1: 0.488\n",
      "    Params: {'alpha': 0.001}\n",
      "    \n",
      "\n",
      "    bigram counts\n",
      "    Train score: 0.778\n",
      "    Eval score: 0.521\n",
      "    Balanced Accuracy: 0.457\n",
      "    Weighted Test F1: 0.514\n",
      "    Params: {'alpha': 0.1}\n",
      "    \n",
      "\n",
      "    bigram tf-idf\n",
      "    Train score: 0.752\n",
      "    Eval score: 0.545\n",
      "    Balanced Accuracy: 0.415\n",
      "    Weighted Test F1: 0.492\n",
      "    Params: {'alpha': 0.1}\n",
      "    \n",
      "\n",
      "    trigram counts\n",
      "    Train score: 0.778\n",
      "    Eval score: 0.521\n",
      "    Balanced Accuracy: 0.457\n",
      "    Weighted Test F1: 0.514\n",
      "    Params: {'alpha': 0.1}\n",
      "    \n",
      "\n",
      "    trigram tf-idf\n",
      "    Train score: 0.751\n",
      "    Eval score: 0.545\n",
      "    Balanced Accuracy: 0.415\n",
      "    Weighted Test F1: 0.492\n",
      "    Params: {'alpha': 0.1}\n",
      "    \n",
      "<class 'sklearn.svm._classes.SVC'>\n",
      "^C\n"
     ]
    }
   ],
   "source": [
    "!python Baseline_A-cpu.py --lang_code am"
   ]
  },
  {
   "cell_type": "code",
   "execution_count": null,
   "metadata": {},
   "outputs": [],
   "source": [
    "!python Baseline_A-cpu.py --lang_code dz"
   ]
  },
  {
   "cell_type": "code",
   "execution_count": null,
   "metadata": {},
   "outputs": [],
   "source": [
    "!python Baseline_A-cpu.py --lang_code ha"
   ]
  },
  {
   "cell_type": "code",
   "execution_count": null,
   "metadata": {},
   "outputs": [],
   "source": [
    "!python Baseline_A-cpu.py --lang_code ig"
   ]
  },
  {
   "cell_type": "code",
   "execution_count": null,
   "metadata": {},
   "outputs": [],
   "source": [
    "!python Baseline_A-cpu.py --lang_code ma"
   ]
  },
  {
   "cell_type": "code",
   "execution_count": null,
   "metadata": {},
   "outputs": [],
   "source": [
    "!python Baseline_A-cpu.py --lang_code pcm"
   ]
  },
  {
   "cell_type": "code",
   "execution_count": null,
   "metadata": {},
   "outputs": [],
   "source": [
    "!python Baseline_A-cpu.py --lang_code pt"
   ]
  },
  {
   "cell_type": "code",
   "execution_count": null,
   "metadata": {},
   "outputs": [],
   "source": [
    "!python Baseline_A-cpu.py --lang_code sw"
   ]
  },
  {
   "cell_type": "code",
   "execution_count": null,
   "metadata": {},
   "outputs": [],
   "source": [
    "!python Baseline_A-cpu.py --lang_code yo"
   ]
  },
  {
   "cell_type": "code",
   "execution_count": null,
   "metadata": {},
   "outputs": [],
   "source": [
    "!python Baseline_B-cpu.py"
   ]
  }
 ],
 "metadata": {
  "kernelspec": {
   "display_name": "Python 3",
   "language": "python",
   "name": "python3"
  },
  "language_info": {
   "codemirror_mode": {
    "name": "ipython",
    "version": 3
   },
   "file_extension": ".py",
   "mimetype": "text/x-python",
   "name": "python",
   "nbconvert_exporter": "python",
   "pygments_lexer": "ipython3",
   "version": "3.8.3"
  }
 },
 "nbformat": 4,
 "nbformat_minor": 4
}
