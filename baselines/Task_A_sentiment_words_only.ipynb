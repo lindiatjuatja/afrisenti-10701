{
  "nbformat": 4,
  "nbformat_minor": 0,
  "metadata": {
    "colab": {
      "provenance": [],
      "collapsed_sections": [
        "AH1oSN1LnzAp"
      ]
    },
    "kernelspec": {
      "name": "python3",
      "display_name": "Python 3"
    },
    "language_info": {
      "name": "python"
    },
    "gpuClass": "standard",
    "widgets": {
      "application/vnd.jupyter.widget-state+json": {
        "d611d0d19cf14dc9ad8cff231edf87c5": {
          "model_module": "@jupyter-widgets/controls",
          "model_name": "HBoxModel",
          "model_module_version": "1.5.0",
          "state": {
            "_dom_classes": [],
            "_model_module": "@jupyter-widgets/controls",
            "_model_module_version": "1.5.0",
            "_model_name": "HBoxModel",
            "_view_count": null,
            "_view_module": "@jupyter-widgets/controls",
            "_view_module_version": "1.5.0",
            "_view_name": "HBoxView",
            "box_style": "",
            "children": [
              "IPY_MODEL_8e760eedf5d94a9781be43defa8d2a6f",
              "IPY_MODEL_39597a7f53a549b38bc14ac36bc6ddb8",
              "IPY_MODEL_bc29febe4dc1409ebdc4aef6bb24c433"
            ],
            "layout": "IPY_MODEL_6d041a7fe9ce4a418e42acbd2aff2a93"
          }
        },
        "8e760eedf5d94a9781be43defa8d2a6f": {
          "model_module": "@jupyter-widgets/controls",
          "model_name": "HTMLModel",
          "model_module_version": "1.5.0",
          "state": {
            "_dom_classes": [],
            "_model_module": "@jupyter-widgets/controls",
            "_model_module_version": "1.5.0",
            "_model_name": "HTMLModel",
            "_view_count": null,
            "_view_module": "@jupyter-widgets/controls",
            "_view_module_version": "1.5.0",
            "_view_name": "HTMLView",
            "description": "",
            "description_tooltip": null,
            "layout": "IPY_MODEL_0f4bb0bc754840cfa64620d9100c350b",
            "placeholder": "​",
            "style": "IPY_MODEL_5f574f2019b44b3d97efd0ad7f362eca",
            "value": "Running tokenizer on train dataset: 100%"
          }
        },
        "39597a7f53a549b38bc14ac36bc6ddb8": {
          "model_module": "@jupyter-widgets/controls",
          "model_name": "FloatProgressModel",
          "model_module_version": "1.5.0",
          "state": {
            "_dom_classes": [],
            "_model_module": "@jupyter-widgets/controls",
            "_model_module_version": "1.5.0",
            "_model_name": "FloatProgressModel",
            "_view_count": null,
            "_view_module": "@jupyter-widgets/controls",
            "_view_module_version": "1.5.0",
            "_view_name": "ProgressView",
            "bar_style": "success",
            "description": "",
            "description_tooltip": null,
            "layout": "IPY_MODEL_fc9ffd1e068b4748b9ea17a3316b417f",
            "max": 4,
            "min": 0,
            "orientation": "horizontal",
            "style": "IPY_MODEL_6d2d9ac84039447e95bcfe4c1109fc47",
            "value": 4
          }
        },
        "bc29febe4dc1409ebdc4aef6bb24c433": {
          "model_module": "@jupyter-widgets/controls",
          "model_name": "HTMLModel",
          "model_module_version": "1.5.0",
          "state": {
            "_dom_classes": [],
            "_model_module": "@jupyter-widgets/controls",
            "_model_module_version": "1.5.0",
            "_model_name": "HTMLModel",
            "_view_count": null,
            "_view_module": "@jupyter-widgets/controls",
            "_view_module_version": "1.5.0",
            "_view_name": "HTMLView",
            "description": "",
            "description_tooltip": null,
            "layout": "IPY_MODEL_841593637f0148c99fe2718bd2a187ff",
            "placeholder": "​",
            "style": "IPY_MODEL_01bb013f92b2420692a5d8617e111ae8",
            "value": " 4/4 [00:10&lt;00:00,  2.19s/ba]"
          }
        },
        "6d041a7fe9ce4a418e42acbd2aff2a93": {
          "model_module": "@jupyter-widgets/base",
          "model_name": "LayoutModel",
          "model_module_version": "1.2.0",
          "state": {
            "_model_module": "@jupyter-widgets/base",
            "_model_module_version": "1.2.0",
            "_model_name": "LayoutModel",
            "_view_count": null,
            "_view_module": "@jupyter-widgets/base",
            "_view_module_version": "1.2.0",
            "_view_name": "LayoutView",
            "align_content": null,
            "align_items": null,
            "align_self": null,
            "border": null,
            "bottom": null,
            "display": null,
            "flex": null,
            "flex_flow": null,
            "grid_area": null,
            "grid_auto_columns": null,
            "grid_auto_flow": null,
            "grid_auto_rows": null,
            "grid_column": null,
            "grid_gap": null,
            "grid_row": null,
            "grid_template_areas": null,
            "grid_template_columns": null,
            "grid_template_rows": null,
            "height": null,
            "justify_content": null,
            "justify_items": null,
            "left": null,
            "margin": null,
            "max_height": null,
            "max_width": null,
            "min_height": null,
            "min_width": null,
            "object_fit": null,
            "object_position": null,
            "order": null,
            "overflow": null,
            "overflow_x": null,
            "overflow_y": null,
            "padding": null,
            "right": null,
            "top": null,
            "visibility": null,
            "width": null
          }
        },
        "0f4bb0bc754840cfa64620d9100c350b": {
          "model_module": "@jupyter-widgets/base",
          "model_name": "LayoutModel",
          "model_module_version": "1.2.0",
          "state": {
            "_model_module": "@jupyter-widgets/base",
            "_model_module_version": "1.2.0",
            "_model_name": "LayoutModel",
            "_view_count": null,
            "_view_module": "@jupyter-widgets/base",
            "_view_module_version": "1.2.0",
            "_view_name": "LayoutView",
            "align_content": null,
            "align_items": null,
            "align_self": null,
            "border": null,
            "bottom": null,
            "display": null,
            "flex": null,
            "flex_flow": null,
            "grid_area": null,
            "grid_auto_columns": null,
            "grid_auto_flow": null,
            "grid_auto_rows": null,
            "grid_column": null,
            "grid_gap": null,
            "grid_row": null,
            "grid_template_areas": null,
            "grid_template_columns": null,
            "grid_template_rows": null,
            "height": null,
            "justify_content": null,
            "justify_items": null,
            "left": null,
            "margin": null,
            "max_height": null,
            "max_width": null,
            "min_height": null,
            "min_width": null,
            "object_fit": null,
            "object_position": null,
            "order": null,
            "overflow": null,
            "overflow_x": null,
            "overflow_y": null,
            "padding": null,
            "right": null,
            "top": null,
            "visibility": null,
            "width": null
          }
        },
        "5f574f2019b44b3d97efd0ad7f362eca": {
          "model_module": "@jupyter-widgets/controls",
          "model_name": "DescriptionStyleModel",
          "model_module_version": "1.5.0",
          "state": {
            "_model_module": "@jupyter-widgets/controls",
            "_model_module_version": "1.5.0",
            "_model_name": "DescriptionStyleModel",
            "_view_count": null,
            "_view_module": "@jupyter-widgets/base",
            "_view_module_version": "1.2.0",
            "_view_name": "StyleView",
            "description_width": ""
          }
        },
        "fc9ffd1e068b4748b9ea17a3316b417f": {
          "model_module": "@jupyter-widgets/base",
          "model_name": "LayoutModel",
          "model_module_version": "1.2.0",
          "state": {
            "_model_module": "@jupyter-widgets/base",
            "_model_module_version": "1.2.0",
            "_model_name": "LayoutModel",
            "_view_count": null,
            "_view_module": "@jupyter-widgets/base",
            "_view_module_version": "1.2.0",
            "_view_name": "LayoutView",
            "align_content": null,
            "align_items": null,
            "align_self": null,
            "border": null,
            "bottom": null,
            "display": null,
            "flex": null,
            "flex_flow": null,
            "grid_area": null,
            "grid_auto_columns": null,
            "grid_auto_flow": null,
            "grid_auto_rows": null,
            "grid_column": null,
            "grid_gap": null,
            "grid_row": null,
            "grid_template_areas": null,
            "grid_template_columns": null,
            "grid_template_rows": null,
            "height": null,
            "justify_content": null,
            "justify_items": null,
            "left": null,
            "margin": null,
            "max_height": null,
            "max_width": null,
            "min_height": null,
            "min_width": null,
            "object_fit": null,
            "object_position": null,
            "order": null,
            "overflow": null,
            "overflow_x": null,
            "overflow_y": null,
            "padding": null,
            "right": null,
            "top": null,
            "visibility": null,
            "width": null
          }
        },
        "6d2d9ac84039447e95bcfe4c1109fc47": {
          "model_module": "@jupyter-widgets/controls",
          "model_name": "ProgressStyleModel",
          "model_module_version": "1.5.0",
          "state": {
            "_model_module": "@jupyter-widgets/controls",
            "_model_module_version": "1.5.0",
            "_model_name": "ProgressStyleModel",
            "_view_count": null,
            "_view_module": "@jupyter-widgets/base",
            "_view_module_version": "1.2.0",
            "_view_name": "StyleView",
            "bar_color": null,
            "description_width": ""
          }
        },
        "841593637f0148c99fe2718bd2a187ff": {
          "model_module": "@jupyter-widgets/base",
          "model_name": "LayoutModel",
          "model_module_version": "1.2.0",
          "state": {
            "_model_module": "@jupyter-widgets/base",
            "_model_module_version": "1.2.0",
            "_model_name": "LayoutModel",
            "_view_count": null,
            "_view_module": "@jupyter-widgets/base",
            "_view_module_version": "1.2.0",
            "_view_name": "LayoutView",
            "align_content": null,
            "align_items": null,
            "align_self": null,
            "border": null,
            "bottom": null,
            "display": null,
            "flex": null,
            "flex_flow": null,
            "grid_area": null,
            "grid_auto_columns": null,
            "grid_auto_flow": null,
            "grid_auto_rows": null,
            "grid_column": null,
            "grid_gap": null,
            "grid_row": null,
            "grid_template_areas": null,
            "grid_template_columns": null,
            "grid_template_rows": null,
            "height": null,
            "justify_content": null,
            "justify_items": null,
            "left": null,
            "margin": null,
            "max_height": null,
            "max_width": null,
            "min_height": null,
            "min_width": null,
            "object_fit": null,
            "object_position": null,
            "order": null,
            "overflow": null,
            "overflow_x": null,
            "overflow_y": null,
            "padding": null,
            "right": null,
            "top": null,
            "visibility": null,
            "width": null
          }
        },
        "01bb013f92b2420692a5d8617e111ae8": {
          "model_module": "@jupyter-widgets/controls",
          "model_name": "DescriptionStyleModel",
          "model_module_version": "1.5.0",
          "state": {
            "_model_module": "@jupyter-widgets/controls",
            "_model_module_version": "1.5.0",
            "_model_name": "DescriptionStyleModel",
            "_view_count": null,
            "_view_module": "@jupyter-widgets/base",
            "_view_module_version": "1.2.0",
            "_view_name": "StyleView",
            "description_width": ""
          }
        },
        "17232dd1b8384609bd5740d66e2bbe80": {
          "model_module": "@jupyter-widgets/controls",
          "model_name": "HBoxModel",
          "model_module_version": "1.5.0",
          "state": {
            "_dom_classes": [],
            "_model_module": "@jupyter-widgets/controls",
            "_model_module_version": "1.5.0",
            "_model_name": "HBoxModel",
            "_view_count": null,
            "_view_module": "@jupyter-widgets/controls",
            "_view_module_version": "1.5.0",
            "_view_name": "HBoxView",
            "box_style": "",
            "children": [
              "IPY_MODEL_d527af2b43e740bca9c68f1c99e4da5d",
              "IPY_MODEL_f32ec1fe034c49678a15aa4e5f2c0b27",
              "IPY_MODEL_3cbf03a9a5cb47508946ae632b4f519b"
            ],
            "layout": "IPY_MODEL_a29a0b8727ad4499bba1a25f32805e95"
          }
        },
        "d527af2b43e740bca9c68f1c99e4da5d": {
          "model_module": "@jupyter-widgets/controls",
          "model_name": "HTMLModel",
          "model_module_version": "1.5.0",
          "state": {
            "_dom_classes": [],
            "_model_module": "@jupyter-widgets/controls",
            "_model_module_version": "1.5.0",
            "_model_name": "HTMLModel",
            "_view_count": null,
            "_view_module": "@jupyter-widgets/controls",
            "_view_module_version": "1.5.0",
            "_view_name": "HTMLView",
            "description": "",
            "description_tooltip": null,
            "layout": "IPY_MODEL_13b14bad092847979798f6108f86b7f4",
            "placeholder": "​",
            "style": "IPY_MODEL_0f117231821a44ee883507d2a4cd63a1",
            "value": "Running tokenizer on validation dataset: 100%"
          }
        },
        "f32ec1fe034c49678a15aa4e5f2c0b27": {
          "model_module": "@jupyter-widgets/controls",
          "model_name": "FloatProgressModel",
          "model_module_version": "1.5.0",
          "state": {
            "_dom_classes": [],
            "_model_module": "@jupyter-widgets/controls",
            "_model_module_version": "1.5.0",
            "_model_name": "FloatProgressModel",
            "_view_count": null,
            "_view_module": "@jupyter-widgets/controls",
            "_view_module_version": "1.5.0",
            "_view_name": "ProgressView",
            "bar_style": "success",
            "description": "",
            "description_tooltip": null,
            "layout": "IPY_MODEL_ee3c10d82cef43bbac7b745867f677e8",
            "max": 1,
            "min": 0,
            "orientation": "horizontal",
            "style": "IPY_MODEL_6ed6ee5c52ae42708ac11f94b8e80fe4",
            "value": 1
          }
        },
        "3cbf03a9a5cb47508946ae632b4f519b": {
          "model_module": "@jupyter-widgets/controls",
          "model_name": "HTMLModel",
          "model_module_version": "1.5.0",
          "state": {
            "_dom_classes": [],
            "_model_module": "@jupyter-widgets/controls",
            "_model_module_version": "1.5.0",
            "_model_name": "HTMLModel",
            "_view_count": null,
            "_view_module": "@jupyter-widgets/controls",
            "_view_module_version": "1.5.0",
            "_view_name": "HTMLView",
            "description": "",
            "description_tooltip": null,
            "layout": "IPY_MODEL_698dfdee610842b7ab541cfa77e6c766",
            "placeholder": "​",
            "style": "IPY_MODEL_a7cbf1bc4b1b4a27be6f387e23c7556b",
            "value": " 1/1 [00:01&lt;00:00,  1.66s/ba]"
          }
        },
        "a29a0b8727ad4499bba1a25f32805e95": {
          "model_module": "@jupyter-widgets/base",
          "model_name": "LayoutModel",
          "model_module_version": "1.2.0",
          "state": {
            "_model_module": "@jupyter-widgets/base",
            "_model_module_version": "1.2.0",
            "_model_name": "LayoutModel",
            "_view_count": null,
            "_view_module": "@jupyter-widgets/base",
            "_view_module_version": "1.2.0",
            "_view_name": "LayoutView",
            "align_content": null,
            "align_items": null,
            "align_self": null,
            "border": null,
            "bottom": null,
            "display": null,
            "flex": null,
            "flex_flow": null,
            "grid_area": null,
            "grid_auto_columns": null,
            "grid_auto_flow": null,
            "grid_auto_rows": null,
            "grid_column": null,
            "grid_gap": null,
            "grid_row": null,
            "grid_template_areas": null,
            "grid_template_columns": null,
            "grid_template_rows": null,
            "height": null,
            "justify_content": null,
            "justify_items": null,
            "left": null,
            "margin": null,
            "max_height": null,
            "max_width": null,
            "min_height": null,
            "min_width": null,
            "object_fit": null,
            "object_position": null,
            "order": null,
            "overflow": null,
            "overflow_x": null,
            "overflow_y": null,
            "padding": null,
            "right": null,
            "top": null,
            "visibility": null,
            "width": null
          }
        },
        "13b14bad092847979798f6108f86b7f4": {
          "model_module": "@jupyter-widgets/base",
          "model_name": "LayoutModel",
          "model_module_version": "1.2.0",
          "state": {
            "_model_module": "@jupyter-widgets/base",
            "_model_module_version": "1.2.0",
            "_model_name": "LayoutModel",
            "_view_count": null,
            "_view_module": "@jupyter-widgets/base",
            "_view_module_version": "1.2.0",
            "_view_name": "LayoutView",
            "align_content": null,
            "align_items": null,
            "align_self": null,
            "border": null,
            "bottom": null,
            "display": null,
            "flex": null,
            "flex_flow": null,
            "grid_area": null,
            "grid_auto_columns": null,
            "grid_auto_flow": null,
            "grid_auto_rows": null,
            "grid_column": null,
            "grid_gap": null,
            "grid_row": null,
            "grid_template_areas": null,
            "grid_template_columns": null,
            "grid_template_rows": null,
            "height": null,
            "justify_content": null,
            "justify_items": null,
            "left": null,
            "margin": null,
            "max_height": null,
            "max_width": null,
            "min_height": null,
            "min_width": null,
            "object_fit": null,
            "object_position": null,
            "order": null,
            "overflow": null,
            "overflow_x": null,
            "overflow_y": null,
            "padding": null,
            "right": null,
            "top": null,
            "visibility": null,
            "width": null
          }
        },
        "0f117231821a44ee883507d2a4cd63a1": {
          "model_module": "@jupyter-widgets/controls",
          "model_name": "DescriptionStyleModel",
          "model_module_version": "1.5.0",
          "state": {
            "_model_module": "@jupyter-widgets/controls",
            "_model_module_version": "1.5.0",
            "_model_name": "DescriptionStyleModel",
            "_view_count": null,
            "_view_module": "@jupyter-widgets/base",
            "_view_module_version": "1.2.0",
            "_view_name": "StyleView",
            "description_width": ""
          }
        },
        "ee3c10d82cef43bbac7b745867f677e8": {
          "model_module": "@jupyter-widgets/base",
          "model_name": "LayoutModel",
          "model_module_version": "1.2.0",
          "state": {
            "_model_module": "@jupyter-widgets/base",
            "_model_module_version": "1.2.0",
            "_model_name": "LayoutModel",
            "_view_count": null,
            "_view_module": "@jupyter-widgets/base",
            "_view_module_version": "1.2.0",
            "_view_name": "LayoutView",
            "align_content": null,
            "align_items": null,
            "align_self": null,
            "border": null,
            "bottom": null,
            "display": null,
            "flex": null,
            "flex_flow": null,
            "grid_area": null,
            "grid_auto_columns": null,
            "grid_auto_flow": null,
            "grid_auto_rows": null,
            "grid_column": null,
            "grid_gap": null,
            "grid_row": null,
            "grid_template_areas": null,
            "grid_template_columns": null,
            "grid_template_rows": null,
            "height": null,
            "justify_content": null,
            "justify_items": null,
            "left": null,
            "margin": null,
            "max_height": null,
            "max_width": null,
            "min_height": null,
            "min_width": null,
            "object_fit": null,
            "object_position": null,
            "order": null,
            "overflow": null,
            "overflow_x": null,
            "overflow_y": null,
            "padding": null,
            "right": null,
            "top": null,
            "visibility": null,
            "width": null
          }
        },
        "6ed6ee5c52ae42708ac11f94b8e80fe4": {
          "model_module": "@jupyter-widgets/controls",
          "model_name": "ProgressStyleModel",
          "model_module_version": "1.5.0",
          "state": {
            "_model_module": "@jupyter-widgets/controls",
            "_model_module_version": "1.5.0",
            "_model_name": "ProgressStyleModel",
            "_view_count": null,
            "_view_module": "@jupyter-widgets/base",
            "_view_module_version": "1.2.0",
            "_view_name": "StyleView",
            "bar_color": null,
            "description_width": ""
          }
        },
        "698dfdee610842b7ab541cfa77e6c766": {
          "model_module": "@jupyter-widgets/base",
          "model_name": "LayoutModel",
          "model_module_version": "1.2.0",
          "state": {
            "_model_module": "@jupyter-widgets/base",
            "_model_module_version": "1.2.0",
            "_model_name": "LayoutModel",
            "_view_count": null,
            "_view_module": "@jupyter-widgets/base",
            "_view_module_version": "1.2.0",
            "_view_name": "LayoutView",
            "align_content": null,
            "align_items": null,
            "align_self": null,
            "border": null,
            "bottom": null,
            "display": null,
            "flex": null,
            "flex_flow": null,
            "grid_area": null,
            "grid_auto_columns": null,
            "grid_auto_flow": null,
            "grid_auto_rows": null,
            "grid_column": null,
            "grid_gap": null,
            "grid_row": null,
            "grid_template_areas": null,
            "grid_template_columns": null,
            "grid_template_rows": null,
            "height": null,
            "justify_content": null,
            "justify_items": null,
            "left": null,
            "margin": null,
            "max_height": null,
            "max_width": null,
            "min_height": null,
            "min_width": null,
            "object_fit": null,
            "object_position": null,
            "order": null,
            "overflow": null,
            "overflow_x": null,
            "overflow_y": null,
            "padding": null,
            "right": null,
            "top": null,
            "visibility": null,
            "width": null
          }
        },
        "a7cbf1bc4b1b4a27be6f387e23c7556b": {
          "model_module": "@jupyter-widgets/controls",
          "model_name": "DescriptionStyleModel",
          "model_module_version": "1.5.0",
          "state": {
            "_model_module": "@jupyter-widgets/controls",
            "_model_module_version": "1.5.0",
            "_model_name": "DescriptionStyleModel",
            "_view_count": null,
            "_view_module": "@jupyter-widgets/base",
            "_view_module_version": "1.2.0",
            "_view_name": "StyleView",
            "description_width": ""
          }
        },
        "5e0f9582c65d4daa9193f7a5e6003b97": {
          "model_module": "@jupyter-widgets/controls",
          "model_name": "HBoxModel",
          "model_module_version": "1.5.0",
          "state": {
            "_dom_classes": [],
            "_model_module": "@jupyter-widgets/controls",
            "_model_module_version": "1.5.0",
            "_model_name": "HBoxModel",
            "_view_count": null,
            "_view_module": "@jupyter-widgets/controls",
            "_view_module_version": "1.5.0",
            "_view_name": "HBoxView",
            "box_style": "",
            "children": [
              "IPY_MODEL_6c17b8daedb84502888c7b631b044ace",
              "IPY_MODEL_f292de9acca44f6199934a9d4e736f3b",
              "IPY_MODEL_8f888e3b38a546e4868ed98602a8ee54"
            ],
            "layout": "IPY_MODEL_1047c8dc5ca946508403ef777d65bb00"
          }
        },
        "6c17b8daedb84502888c7b631b044ace": {
          "model_module": "@jupyter-widgets/controls",
          "model_name": "HTMLModel",
          "model_module_version": "1.5.0",
          "state": {
            "_dom_classes": [],
            "_model_module": "@jupyter-widgets/controls",
            "_model_module_version": "1.5.0",
            "_model_name": "HTMLModel",
            "_view_count": null,
            "_view_module": "@jupyter-widgets/controls",
            "_view_module_version": "1.5.0",
            "_view_name": "HTMLView",
            "description": "",
            "description_tooltip": null,
            "layout": "IPY_MODEL_548570fca8c34bf0932ce63e5056e50e",
            "placeholder": "​",
            "style": "IPY_MODEL_60efe5d4805f400dad95d24e29d21782",
            "value": "Running tokenizer on validation dataset: 100%"
          }
        },
        "f292de9acca44f6199934a9d4e736f3b": {
          "model_module": "@jupyter-widgets/controls",
          "model_name": "FloatProgressModel",
          "model_module_version": "1.5.0",
          "state": {
            "_dom_classes": [],
            "_model_module": "@jupyter-widgets/controls",
            "_model_module_version": "1.5.0",
            "_model_name": "FloatProgressModel",
            "_view_count": null,
            "_view_module": "@jupyter-widgets/controls",
            "_view_module_version": "1.5.0",
            "_view_name": "ProgressView",
            "bar_style": "success",
            "description": "",
            "description_tooltip": null,
            "layout": "IPY_MODEL_40500311638e40ee8f47b2032a22fe03",
            "max": 1,
            "min": 0,
            "orientation": "horizontal",
            "style": "IPY_MODEL_2d5953bc080d497d86d2f6698ce0ab1f",
            "value": 1
          }
        },
        "8f888e3b38a546e4868ed98602a8ee54": {
          "model_module": "@jupyter-widgets/controls",
          "model_name": "HTMLModel",
          "model_module_version": "1.5.0",
          "state": {
            "_dom_classes": [],
            "_model_module": "@jupyter-widgets/controls",
            "_model_module_version": "1.5.0",
            "_model_name": "HTMLModel",
            "_view_count": null,
            "_view_module": "@jupyter-widgets/controls",
            "_view_module_version": "1.5.0",
            "_view_name": "HTMLView",
            "description": "",
            "description_tooltip": null,
            "layout": "IPY_MODEL_0e0cec941dc64745a2f8340ff8534d10",
            "placeholder": "​",
            "style": "IPY_MODEL_808e883933fb4d7196f3c40502f76bca",
            "value": " 1/1 [00:02&lt;00:00,  2.86s/ba]"
          }
        },
        "1047c8dc5ca946508403ef777d65bb00": {
          "model_module": "@jupyter-widgets/base",
          "model_name": "LayoutModel",
          "model_module_version": "1.2.0",
          "state": {
            "_model_module": "@jupyter-widgets/base",
            "_model_module_version": "1.2.0",
            "_model_name": "LayoutModel",
            "_view_count": null,
            "_view_module": "@jupyter-widgets/base",
            "_view_module_version": "1.2.0",
            "_view_name": "LayoutView",
            "align_content": null,
            "align_items": null,
            "align_self": null,
            "border": null,
            "bottom": null,
            "display": null,
            "flex": null,
            "flex_flow": null,
            "grid_area": null,
            "grid_auto_columns": null,
            "grid_auto_flow": null,
            "grid_auto_rows": null,
            "grid_column": null,
            "grid_gap": null,
            "grid_row": null,
            "grid_template_areas": null,
            "grid_template_columns": null,
            "grid_template_rows": null,
            "height": null,
            "justify_content": null,
            "justify_items": null,
            "left": null,
            "margin": null,
            "max_height": null,
            "max_width": null,
            "min_height": null,
            "min_width": null,
            "object_fit": null,
            "object_position": null,
            "order": null,
            "overflow": null,
            "overflow_x": null,
            "overflow_y": null,
            "padding": null,
            "right": null,
            "top": null,
            "visibility": null,
            "width": null
          }
        },
        "548570fca8c34bf0932ce63e5056e50e": {
          "model_module": "@jupyter-widgets/base",
          "model_name": "LayoutModel",
          "model_module_version": "1.2.0",
          "state": {
            "_model_module": "@jupyter-widgets/base",
            "_model_module_version": "1.2.0",
            "_model_name": "LayoutModel",
            "_view_count": null,
            "_view_module": "@jupyter-widgets/base",
            "_view_module_version": "1.2.0",
            "_view_name": "LayoutView",
            "align_content": null,
            "align_items": null,
            "align_self": null,
            "border": null,
            "bottom": null,
            "display": null,
            "flex": null,
            "flex_flow": null,
            "grid_area": null,
            "grid_auto_columns": null,
            "grid_auto_flow": null,
            "grid_auto_rows": null,
            "grid_column": null,
            "grid_gap": null,
            "grid_row": null,
            "grid_template_areas": null,
            "grid_template_columns": null,
            "grid_template_rows": null,
            "height": null,
            "justify_content": null,
            "justify_items": null,
            "left": null,
            "margin": null,
            "max_height": null,
            "max_width": null,
            "min_height": null,
            "min_width": null,
            "object_fit": null,
            "object_position": null,
            "order": null,
            "overflow": null,
            "overflow_x": null,
            "overflow_y": null,
            "padding": null,
            "right": null,
            "top": null,
            "visibility": null,
            "width": null
          }
        },
        "60efe5d4805f400dad95d24e29d21782": {
          "model_module": "@jupyter-widgets/controls",
          "model_name": "DescriptionStyleModel",
          "model_module_version": "1.5.0",
          "state": {
            "_model_module": "@jupyter-widgets/controls",
            "_model_module_version": "1.5.0",
            "_model_name": "DescriptionStyleModel",
            "_view_count": null,
            "_view_module": "@jupyter-widgets/base",
            "_view_module_version": "1.2.0",
            "_view_name": "StyleView",
            "description_width": ""
          }
        },
        "40500311638e40ee8f47b2032a22fe03": {
          "model_module": "@jupyter-widgets/base",
          "model_name": "LayoutModel",
          "model_module_version": "1.2.0",
          "state": {
            "_model_module": "@jupyter-widgets/base",
            "_model_module_version": "1.2.0",
            "_model_name": "LayoutModel",
            "_view_count": null,
            "_view_module": "@jupyter-widgets/base",
            "_view_module_version": "1.2.0",
            "_view_name": "LayoutView",
            "align_content": null,
            "align_items": null,
            "align_self": null,
            "border": null,
            "bottom": null,
            "display": null,
            "flex": null,
            "flex_flow": null,
            "grid_area": null,
            "grid_auto_columns": null,
            "grid_auto_flow": null,
            "grid_auto_rows": null,
            "grid_column": null,
            "grid_gap": null,
            "grid_row": null,
            "grid_template_areas": null,
            "grid_template_columns": null,
            "grid_template_rows": null,
            "height": null,
            "justify_content": null,
            "justify_items": null,
            "left": null,
            "margin": null,
            "max_height": null,
            "max_width": null,
            "min_height": null,
            "min_width": null,
            "object_fit": null,
            "object_position": null,
            "order": null,
            "overflow": null,
            "overflow_x": null,
            "overflow_y": null,
            "padding": null,
            "right": null,
            "top": null,
            "visibility": null,
            "width": null
          }
        },
        "2d5953bc080d497d86d2f6698ce0ab1f": {
          "model_module": "@jupyter-widgets/controls",
          "model_name": "ProgressStyleModel",
          "model_module_version": "1.5.0",
          "state": {
            "_model_module": "@jupyter-widgets/controls",
            "_model_module_version": "1.5.0",
            "_model_name": "ProgressStyleModel",
            "_view_count": null,
            "_view_module": "@jupyter-widgets/base",
            "_view_module_version": "1.2.0",
            "_view_name": "StyleView",
            "bar_color": null,
            "description_width": ""
          }
        },
        "0e0cec941dc64745a2f8340ff8534d10": {
          "model_module": "@jupyter-widgets/base",
          "model_name": "LayoutModel",
          "model_module_version": "1.2.0",
          "state": {
            "_model_module": "@jupyter-widgets/base",
            "_model_module_version": "1.2.0",
            "_model_name": "LayoutModel",
            "_view_count": null,
            "_view_module": "@jupyter-widgets/base",
            "_view_module_version": "1.2.0",
            "_view_name": "LayoutView",
            "align_content": null,
            "align_items": null,
            "align_self": null,
            "border": null,
            "bottom": null,
            "display": null,
            "flex": null,
            "flex_flow": null,
            "grid_area": null,
            "grid_auto_columns": null,
            "grid_auto_flow": null,
            "grid_auto_rows": null,
            "grid_column": null,
            "grid_gap": null,
            "grid_row": null,
            "grid_template_areas": null,
            "grid_template_columns": null,
            "grid_template_rows": null,
            "height": null,
            "justify_content": null,
            "justify_items": null,
            "left": null,
            "margin": null,
            "max_height": null,
            "max_width": null,
            "min_height": null,
            "min_width": null,
            "object_fit": null,
            "object_position": null,
            "order": null,
            "overflow": null,
            "overflow_x": null,
            "overflow_y": null,
            "padding": null,
            "right": null,
            "top": null,
            "visibility": null,
            "width": null
          }
        },
        "808e883933fb4d7196f3c40502f76bca": {
          "model_module": "@jupyter-widgets/controls",
          "model_name": "DescriptionStyleModel",
          "model_module_version": "1.5.0",
          "state": {
            "_model_module": "@jupyter-widgets/controls",
            "_model_module_version": "1.5.0",
            "_model_name": "DescriptionStyleModel",
            "_view_count": null,
            "_view_module": "@jupyter-widgets/base",
            "_view_module_version": "1.2.0",
            "_view_name": "StyleView",
            "description_width": ""
          }
        }
      }
    }
  },
  "cells": [
    {
      "cell_type": "markdown",
      "source": [
        "## Initialize notebook"
      ],
      "metadata": {
        "id": "AH1oSN1LnzAp"
      }
    },
    {
      "cell_type": "code",
      "execution_count": 1,
      "metadata": {
        "id": "yITfgGnQ-UfU",
        "colab": {
          "base_uri": "https://localhost:8080/"
        },
        "outputId": "e245b23d-4271-414d-b786-e38d3c038e08"
      },
      "outputs": [
        {
          "output_type": "stream",
          "name": "stdout",
          "text": [
            "Mounted at /content/drive\n"
          ]
        }
      ],
      "source": [
        "from google.colab import drive\n",
        "drive.mount('/content/drive')"
      ]
    },
    {
      "cell_type": "code",
      "source": [
        "%cd /content/drive/MyDrive\n",
        "\n",
        "import os\n",
        "\n",
        "PROJECT_DIR = '/content/drive/MyDrive/afrisent/afrisent-semeval-2023'\n",
        "PROJECT_GITHUB_URL = 'https://github.com/afrisenti-semeval/afrisent-semeval-2023.git'\n",
        "\n",
        "if not os.path.isdir(PROJECT_DIR):\n",
        "  !git clone {PROJECT_GITHUB_URL}\n",
        "else:\n",
        "  %cd {PROJECT_DIR}\n",
        "  !git pull {PROJECT_GITHUB_URL}"
      ],
      "metadata": {
        "colab": {
          "base_uri": "https://localhost:8080/"
        },
        "id": "sZFJ8tg3-xUU",
        "outputId": "9634ac27-8304-48f6-ffb6-ccbaebd4380b"
      },
      "execution_count": 2,
      "outputs": [
        {
          "output_type": "stream",
          "name": "stdout",
          "text": [
            "/content/drive/MyDrive\n",
            "/content/drive/MyDrive/afrisent/afrisent-semeval-2023\n",
            "From https://github.com/afrisenti-semeval/afrisent-semeval-2023\n",
            " * branch            HEAD       -> FETCH_HEAD\n",
            "Already up to date.\n"
          ]
        }
      ]
    },
    {
      "cell_type": "code",
      "source": [
        "if os.path.isdir(PROJECT_DIR):\n",
        "  #The requirements file should be in PROJECT_DIR\n",
        "  if os.path.isfile(os.path.join(PROJECT_DIR, 'starter_kit/requirements.txt')):\n",
        "    !pip install -r starter_kit/requirements.txt\n",
        "  else:\n",
        "    print('requirements.txt file not found')\n",
        "\n",
        "else:\n",
        "  print(\"Project directory not found, please check again.\")"
      ],
      "metadata": {
        "colab": {
          "base_uri": "https://localhost:8080/"
        },
        "id": "Uo4evNOw_UNb",
        "outputId": "797ae218-58b7-4753-e291-880312e0f07c"
      },
      "execution_count": 3,
      "outputs": [
        {
          "output_type": "stream",
          "name": "stdout",
          "text": [
            "Looking in indexes: https://pypi.org/simple, https://us-python.pkg.dev/colab-wheels/public/simple/\n",
            "Requirement already satisfied: pandas in /usr/local/lib/python3.8/dist-packages (from -r starter_kit/requirements.txt (line 1)) (1.3.5)\n",
            "Requirement already satisfied: numpy in /usr/local/lib/python3.8/dist-packages (from -r starter_kit/requirements.txt (line 2)) (1.21.6)\n",
            "Collecting transformers\n",
            "  Downloading transformers-4.25.1-py3-none-any.whl (5.8 MB)\n",
            "\u001b[K     |████████████████████████████████| 5.8 MB 5.2 MB/s \n",
            "\u001b[?25hRequirement already satisfied: torch>=1.3 in /usr/local/lib/python3.8/dist-packages (from -r starter_kit/requirements.txt (line 4)) (1.13.0+cu116)\n",
            "Requirement already satisfied: scipy in /usr/local/lib/python3.8/dist-packages (from -r starter_kit/requirements.txt (line 5)) (1.7.3)\n",
            "Requirement already satisfied: protobuf in /usr/local/lib/python3.8/dist-packages (from -r starter_kit/requirements.txt (line 6)) (3.19.6)\n",
            "Requirement already satisfied: scikit-learn in /usr/local/lib/python3.8/dist-packages (from -r starter_kit/requirements.txt (line 7)) (1.0.2)\n",
            "Collecting accelerate\n",
            "  Downloading accelerate-0.15.0-py3-none-any.whl (191 kB)\n",
            "\u001b[K     |████████████████████████████████| 191 kB 76.5 MB/s \n",
            "\u001b[?25hCollecting sentencepiece!=0.1.92\n",
            "  Downloading sentencepiece-0.1.97-cp38-cp38-manylinux_2_17_x86_64.manylinux2014_x86_64.whl (1.3 MB)\n",
            "\u001b[K     |████████████████████████████████| 1.3 MB 71.6 MB/s \n",
            "\u001b[?25hCollecting datasets>=1.8.0\n",
            "  Downloading datasets-2.7.1-py3-none-any.whl (451 kB)\n",
            "\u001b[K     |████████████████████████████████| 451 kB 65.7 MB/s \n",
            "\u001b[?25hCollecting evaluate\n",
            "  Downloading evaluate-0.3.0-py3-none-any.whl (72 kB)\n",
            "\u001b[K     |████████████████████████████████| 72 kB 1.7 MB/s \n",
            "\u001b[?25hRequirement already satisfied: typing-extensions in /usr/local/lib/python3.8/dist-packages (from torch>=1.3->-r starter_kit/requirements.txt (line 4)) (4.4.0)\n",
            "Requirement already satisfied: dill<0.3.7 in /usr/local/lib/python3.8/dist-packages (from datasets>=1.8.0->-r starter_kit/requirements.txt (line 10)) (0.3.6)\n",
            "Collecting huggingface-hub<1.0.0,>=0.2.0\n",
            "  Downloading huggingface_hub-0.11.1-py3-none-any.whl (182 kB)\n",
            "\u001b[K     |████████████████████████████████| 182 kB 65.2 MB/s \n",
            "\u001b[?25hCollecting responses<0.19\n",
            "  Downloading responses-0.18.0-py3-none-any.whl (38 kB)\n",
            "Requirement already satisfied: pyarrow>=6.0.0 in /usr/local/lib/python3.8/dist-packages (from datasets>=1.8.0->-r starter_kit/requirements.txt (line 10)) (9.0.0)\n",
            "Requirement already satisfied: fsspec[http]>=2021.11.1 in /usr/local/lib/python3.8/dist-packages (from datasets>=1.8.0->-r starter_kit/requirements.txt (line 10)) (2022.11.0)\n",
            "Requirement already satisfied: requests>=2.19.0 in /usr/local/lib/python3.8/dist-packages (from datasets>=1.8.0->-r starter_kit/requirements.txt (line 10)) (2.23.0)\n",
            "Requirement already satisfied: aiohttp in /usr/local/lib/python3.8/dist-packages (from datasets>=1.8.0->-r starter_kit/requirements.txt (line 10)) (3.8.3)\n",
            "Requirement already satisfied: packaging in /usr/local/lib/python3.8/dist-packages (from datasets>=1.8.0->-r starter_kit/requirements.txt (line 10)) (21.3)\n",
            "Requirement already satisfied: tqdm>=4.62.1 in /usr/local/lib/python3.8/dist-packages (from datasets>=1.8.0->-r starter_kit/requirements.txt (line 10)) (4.64.1)\n",
            "Collecting xxhash\n",
            "  Downloading xxhash-3.1.0-cp38-cp38-manylinux_2_17_x86_64.manylinux2014_x86_64.whl (212 kB)\n",
            "\u001b[K     |████████████████████████████████| 212 kB 77.1 MB/s \n",
            "\u001b[?25hCollecting multiprocess\n",
            "  Downloading multiprocess-0.70.14-py38-none-any.whl (132 kB)\n",
            "\u001b[K     |████████████████████████████████| 132 kB 68.3 MB/s \n",
            "\u001b[?25hRequirement already satisfied: pyyaml>=5.1 in /usr/local/lib/python3.8/dist-packages (from datasets>=1.8.0->-r starter_kit/requirements.txt (line 10)) (6.0)\n",
            "Requirement already satisfied: charset-normalizer<3.0,>=2.0 in /usr/local/lib/python3.8/dist-packages (from aiohttp->datasets>=1.8.0->-r starter_kit/requirements.txt (line 10)) (2.1.1)\n",
            "Requirement already satisfied: frozenlist>=1.1.1 in /usr/local/lib/python3.8/dist-packages (from aiohttp->datasets>=1.8.0->-r starter_kit/requirements.txt (line 10)) (1.3.3)\n",
            "Requirement already satisfied: yarl<2.0,>=1.0 in /usr/local/lib/python3.8/dist-packages (from aiohttp->datasets>=1.8.0->-r starter_kit/requirements.txt (line 10)) (1.8.2)\n",
            "Requirement already satisfied: multidict<7.0,>=4.5 in /usr/local/lib/python3.8/dist-packages (from aiohttp->datasets>=1.8.0->-r starter_kit/requirements.txt (line 10)) (6.0.3)\n",
            "Requirement already satisfied: aiosignal>=1.1.2 in /usr/local/lib/python3.8/dist-packages (from aiohttp->datasets>=1.8.0->-r starter_kit/requirements.txt (line 10)) (1.3.1)\n",
            "Requirement already satisfied: async-timeout<5.0,>=4.0.0a3 in /usr/local/lib/python3.8/dist-packages (from aiohttp->datasets>=1.8.0->-r starter_kit/requirements.txt (line 10)) (4.0.2)\n",
            "Requirement already satisfied: attrs>=17.3.0 in /usr/local/lib/python3.8/dist-packages (from aiohttp->datasets>=1.8.0->-r starter_kit/requirements.txt (line 10)) (22.1.0)\n",
            "Requirement already satisfied: filelock in /usr/local/lib/python3.8/dist-packages (from huggingface-hub<1.0.0,>=0.2.0->datasets>=1.8.0->-r starter_kit/requirements.txt (line 10)) (3.8.0)\n",
            "Requirement already satisfied: pyparsing!=3.0.5,>=2.0.2 in /usr/local/lib/python3.8/dist-packages (from packaging->datasets>=1.8.0->-r starter_kit/requirements.txt (line 10)) (3.0.9)\n",
            "Requirement already satisfied: certifi>=2017.4.17 in /usr/local/lib/python3.8/dist-packages (from requests>=2.19.0->datasets>=1.8.0->-r starter_kit/requirements.txt (line 10)) (2022.9.24)\n",
            "Requirement already satisfied: urllib3!=1.25.0,!=1.25.1,<1.26,>=1.21.1 in /usr/local/lib/python3.8/dist-packages (from requests>=2.19.0->datasets>=1.8.0->-r starter_kit/requirements.txt (line 10)) (1.24.3)\n",
            "Requirement already satisfied: chardet<4,>=3.0.2 in /usr/local/lib/python3.8/dist-packages (from requests>=2.19.0->datasets>=1.8.0->-r starter_kit/requirements.txt (line 10)) (3.0.4)\n",
            "Requirement already satisfied: idna<3,>=2.5 in /usr/local/lib/python3.8/dist-packages (from requests>=2.19.0->datasets>=1.8.0->-r starter_kit/requirements.txt (line 10)) (2.10)\n",
            "Collecting urllib3!=1.25.0,!=1.25.1,<1.26,>=1.21.1\n",
            "  Downloading urllib3-1.25.11-py2.py3-none-any.whl (127 kB)\n",
            "\u001b[K     |████████████████████████████████| 127 kB 64.2 MB/s \n",
            "\u001b[?25hRequirement already satisfied: python-dateutil>=2.7.3 in /usr/local/lib/python3.8/dist-packages (from pandas->-r starter_kit/requirements.txt (line 1)) (2.8.2)\n",
            "Requirement already satisfied: pytz>=2017.3 in /usr/local/lib/python3.8/dist-packages (from pandas->-r starter_kit/requirements.txt (line 1)) (2022.6)\n",
            "Requirement already satisfied: six>=1.5 in /usr/local/lib/python3.8/dist-packages (from python-dateutil>=2.7.3->pandas->-r starter_kit/requirements.txt (line 1)) (1.15.0)\n",
            "Requirement already satisfied: regex!=2019.12.17 in /usr/local/lib/python3.8/dist-packages (from transformers->-r starter_kit/requirements.txt (line 3)) (2022.6.2)\n",
            "Collecting tokenizers!=0.11.3,<0.14,>=0.11.1\n",
            "  Downloading tokenizers-0.13.2-cp38-cp38-manylinux_2_17_x86_64.manylinux2014_x86_64.whl (7.6 MB)\n",
            "\u001b[K     |████████████████████████████████| 7.6 MB 39.2 MB/s \n",
            "\u001b[?25hRequirement already satisfied: joblib>=0.11 in /usr/local/lib/python3.8/dist-packages (from scikit-learn->-r starter_kit/requirements.txt (line 7)) (1.2.0)\n",
            "Requirement already satisfied: threadpoolctl>=2.0.0 in /usr/local/lib/python3.8/dist-packages (from scikit-learn->-r starter_kit/requirements.txt (line 7)) (3.1.0)\n",
            "Requirement already satisfied: psutil in /usr/local/lib/python3.8/dist-packages (from accelerate->-r starter_kit/requirements.txt (line 8)) (5.4.8)\n",
            "Installing collected packages: urllib3, xxhash, responses, multiprocess, huggingface-hub, tokenizers, datasets, transformers, sentencepiece, evaluate, accelerate\n",
            "  Attempting uninstall: urllib3\n",
            "    Found existing installation: urllib3 1.24.3\n",
            "    Uninstalling urllib3-1.24.3:\n",
            "      Successfully uninstalled urllib3-1.24.3\n",
            "Successfully installed accelerate-0.15.0 datasets-2.7.1 evaluate-0.3.0 huggingface-hub-0.11.1 multiprocess-0.70.14 responses-0.18.0 sentencepiece-0.1.97 tokenizers-0.13.2 transformers-4.25.1 urllib3-1.25.11 xxhash-3.1.0\n"
          ]
        }
      ]
    },
    {
      "cell_type": "code",
      "source": [
        "import pandas as pd\n",
        "import numpy as np\n",
        "\n",
        "# Please do not edit anything here\n",
        "languages = ['am', 'dz', 'ha', 'ig', 'ma', 'pcm', 'pt', 'sw', 'yo']"
      ],
      "metadata": {
        "id": "yY2Q9XCQ_iDG"
      },
      "execution_count": 4,
      "outputs": []
    },
    {
      "cell_type": "markdown",
      "source": [
        "Training data is already in /content/drive/MyDrive/afrisent/afrisent-semeval-2023/SubtaskA/train/splitted-train-dev-test"
      ],
      "metadata": {
        "id": "IMem0STj_ste"
      }
    },
    {
      "cell_type": "markdown",
      "source": [
        "## Remove all but sentiment-bearing words from tweets\n"
      ],
      "metadata": {
        "id": "x_m7dY2l__-R"
      }
    },
    {
      "cell_type": "code",
      "source": [
        "import os\n",
        "\n",
        "# function to get a list of sentiment-bearing words\n",
        "def sent_words(language):\n",
        "  sent_words = []\n",
        "  path = PROJECT_DIR + '/sentiment_lexicon/' + language\n",
        "  if language in ['yo', 'ha', 'ig']:\n",
        "    for filename in os.listdir(path):\n",
        "      if filename != 'README.txt':\n",
        "        f = os.path.join(path,filename)\n",
        "        df = pd.read_csv(f, header=0)\n",
        "        sent_words.extend(df.iloc[:,0])\n",
        "  return sent_words\n",
        "\n",
        "# function to remove words not in sentiment-bearing word list\n",
        "def remove_words(tweet, sent_words):\n",
        "  words = tweet.split()\n",
        "  sentiment_tweet = \"\"\n",
        "  for word in words:\n",
        "    if word in sent_words:\n",
        "      sentiment_tweet = sentiment_tweet + \" \" + word\n",
        "  return sentiment_tweet\n",
        "\n",
        "# creates a train-dev-test dataset with only sentiment-bearing words\n",
        "# data is in '/content/drive/MyDrive/afrisent/afrisent-semeval-2023/SubtaskA/train/sent-split-train-dev-test/{lang}\n",
        "def format_sent_word_data(language):\n",
        "  sent_list = sent_words(language)\n",
        "  path = PROJECT_DIR + '/SubtaskA/train/sent-split-train-dev-test/' + language\n",
        "  if not os.path.isdir(path):\n",
        "    os.makedirs(path)\n",
        "  print(path + \" created\")\n",
        "  path_to_orig_data = PROJECT_DIR + '/SubtaskA/train/splitted-train-dev-test/' + language\n",
        "  for file in os.listdir(path_to_orig_data):\n",
        "    f = os.path.join(path_to_orig_data, file)\n",
        "    df = pd.read_csv(f, sep='\\t', header=0)\n",
        "    df['text'] = df['text'].apply(remove_words, sent_words=sent_list)\n",
        "    df.to_csv(os.path.join(path,file), sep='\\t', index=False)\n",
        "    print(f + \" created with sentiment words removed\")"
      ],
      "metadata": {
        "id": "xRLfqf89_q5d"
      },
      "execution_count": 34,
      "outputs": []
    },
    {
      "cell_type": "markdown",
      "source": [
        "## Simple Baseline Experiments\n",
        "\n",
        "(code from Thomas's baseline code)\n",
        "\n",
        "\n",
        "\n"
      ],
      "metadata": {
        "id": "izpZ7iqmfs3K"
      }
    },
    {
      "cell_type": "code",
      "source": [
        "LANGUAGE_CODE = 'ig'\n",
        "\n",
        "# create files with sentiment words only for yoruba\n",
        "format_sent_word_data(language=LANGUAGE_CODE)"
      ],
      "metadata": {
        "colab": {
          "base_uri": "https://localhost:8080/"
        },
        "id": "ACrVgiV7JtF7",
        "outputId": "45c619d0-5087-4bf2-aefe-e6557d7fda39"
      },
      "execution_count": 42,
      "outputs": [
        {
          "output_type": "stream",
          "name": "stdout",
          "text": [
            "/content/drive/MyDrive/afrisent/afrisent-semeval-2023/SubtaskA/train/sent-split-train-dev-test/ig created\n",
            "/content/drive/MyDrive/afrisent/afrisent-semeval-2023/SubtaskA/train/splitted-train-dev-test/ig/train.tsv created with sentiment words removed\n",
            "/content/drive/MyDrive/afrisent/afrisent-semeval-2023/SubtaskA/train/splitted-train-dev-test/ig/dev.tsv created with sentiment words removed\n",
            "/content/drive/MyDrive/afrisent/afrisent-semeval-2023/SubtaskA/train/splitted-train-dev-test/ig/test.tsv created with sentiment words removed\n"
          ]
        }
      ]
    },
    {
      "cell_type": "code",
      "source": [
        "from types import SimpleNamespace\n",
        "from sklearn.feature_extraction.text import CountVectorizer, TfidfTransformer\n",
        "import warnings\n",
        "from sklearn.linear_model import SGDClassifier, LogisticRegression\n",
        "from sklearn.ensemble import RandomForestClassifier, AdaBoostClassifier\n",
        "from sklearn.neural_network import MLPClassifier\n",
        "from sklearn.tree import DecisionTreeClassifier\n",
        "from sklearn.naive_bayes import MultinomialNB\n",
        "from sklearn.svm import SVC\n",
        "from sklearn.model_selection import GridSearchCV\n",
        "from sklearn.metrics import f1_score, balanced_accuracy_score, balanced_accuracy_score, average_precision_score\n",
        "from tqdm import tqdm\n",
        "\n",
        "import torch\n",
        "import torch.nn as nn\n",
        "from torch.nn.utils.rnn import pack_padded_sequence, pad_packed_sequence\n",
        "import torch.optim as optim\n",
        "\n",
        "import os\n",
        "import random\n",
        "import sys\n",
        "from dataclasses import dataclass, field\n",
        "from typing import Optional\n",
        "\n",
        "import datasets\n",
        "import numpy as np\n",
        "import pandas\n",
        "import pandas as pd\n",
        "from datasets import load_dataset\n",
        "\n",
        "import evaluate\n",
        "import transformers\n",
        "from transformers import (\n",
        "    AutoConfig,\n",
        "    AutoModelForSequenceClassification,\n",
        "    PreTrainedTokenizerFast,\n",
        "    AutoTokenizer,\n",
        "    DataCollatorWithPadding,\n",
        "    EvalPrediction,\n",
        "    Trainer,\n",
        "    TrainingArguments,\n",
        "    default_data_collator,\n",
        "    set_seed,\n",
        ")\n",
        "from tokenizers import SentencePieceBPETokenizer\n",
        "from transformers.trainer_utils import get_last_checkpoint\n",
        "from transformers.utils import check_min_version, send_example_telemetry\n",
        "from transformers.utils.versions import require_version\n",
        "from datasets import Features, Value, ClassLabel, load_dataset, Dataset\n",
        "\n",
        "require_version(\"datasets>=1.8.0\", \"To fix: pip install -r examples/pytorch/text-classification/requirements.txt\")\n",
        "\n",
        "np.random.seed(420)\n",
        "torch.manual_seed(69);"
      ],
      "metadata": {
        "id": "1xbF4A8LfquM"
      },
      "execution_count": 43,
      "outputs": []
    },
    {
      "cell_type": "code",
      "source": [
        "PROJECT_DIR = '/content/drive/MyDrive/afrisent/afrisent-semeval-2023'\n",
        "TRAINING_DATA_DIR = os.path.join(PROJECT_DIR, 'SubtaskA', 'train')\n",
        "DATA_DIR = os.path.join(TRAINING_DATA_DIR, 'sent-split-train-dev-test', LANGUAGE_CODE)"
      ],
      "metadata": {
        "id": "MQVlVxdzh0mt"
      },
      "execution_count": 44,
      "outputs": []
    },
    {
      "cell_type": "code",
      "source": [
        "print(LANGUAGE_CODE)\n",
        "\n",
        "# Set seed before initializing model.\n",
        "set_seed(42069)\n",
        "\n",
        "# obtain train data\n",
        "df = pd.read_csv(DATA_DIR + '/train.tsv', sep='\\t')\n",
        "df = df.dropna()\n",
        "train_dataset = Dataset.from_pandas(df)\n",
        "label_list = df['label'].unique().tolist()\n",
        "\n",
        "# obtain dev data\n",
        "df = pd.read_csv(DATA_DIR + '/dev.tsv', sep='\\t') \n",
        "df = df.dropna()\n",
        "eval_dataset = Dataset.from_pandas(df)\n",
        "\n",
        "# obtain test data\n",
        "df = pd.read_csv(DATA_DIR + '/test.tsv', sep='\\t')\n",
        "df = df.dropna()\n",
        "test_dataset = Dataset.from_pandas(df)\n",
        "\n",
        "# Labels\n",
        "num_labels = len(label_list)\n",
        "print(label_list)"
      ],
      "metadata": {
        "colab": {
          "base_uri": "https://localhost:8080/"
        },
        "id": "KHieUBqPkKwg",
        "outputId": "0a6e02c5-36a7-4ad5-bdfa-20ff1da701a0"
      },
      "execution_count": 45,
      "outputs": [
        {
          "output_type": "stream",
          "name": "stdout",
          "text": [
            "ig\n",
            "['positive', 'neutral', 'negative']\n"
          ]
        }
      ]
    },
    {
      "cell_type": "markdown",
      "source": [
        "Tokenization"
      ],
      "metadata": {
        "id": "cg5adsgNk_tK"
      }
    },
    {
      "cell_type": "code",
      "source": [
        "tokenizer = SentencePieceBPETokenizer()\n",
        "tokenizer.train_from_iterator(\n",
        "    train_dataset['text'] + eval_dataset['text'],\n",
        "    vocab_size=100000,\n",
        "    min_frequency=5,\n",
        "    show_progress=True,\n",
        "    limit_alphabet=500,\n",
        ")\n",
        "\n",
        "tokenizer = PreTrainedTokenizerFast(\n",
        "    tokenizer_object=tokenizer\n",
        ")\n",
        "tokenizer.add_special_tokens({'eos_token': '[EOS]'})\n",
        "tokenizer.pad_token = tokenizer.eos_token"
      ],
      "metadata": {
        "id": "fLYzsegek-HS"
      },
      "execution_count": 46,
      "outputs": []
    },
    {
      "cell_type": "code",
      "source": [
        "# Preprocessing the datasets\n",
        "# Padding strategy\n",
        "padding = \"max_length\"\n",
        "\n",
        "label_to_id = None\n",
        "label_to_id = {v: i for i, v in enumerate(label_list)}"
      ],
      "metadata": {
        "id": "MMQglZ3YlDhp"
      },
      "execution_count": 47,
      "outputs": []
    },
    {
      "cell_type": "code",
      "source": [
        "MAXIMUM_SEQUENCE_LENGTH = 500\n",
        "\n",
        "def preprocess_function(examples):\n",
        "    texts =(examples['text'],)\n",
        "    result = tokenizer(*texts, padding=padding, max_length=MAXIMUM_SEQUENCE_LENGTH)\n",
        "    \n",
        "    if label_to_id is not None and \"label\" in examples:\n",
        "        result[\"label\"] = [(label_to_id[l] if l != -1 else -1) for l in examples[\"label\"]]\n",
        "    \n",
        "    result['length'], result[\"tokenized\"] = [], []\n",
        "    for input_ids in result['input_ids']:\n",
        "        toks = tokenizer.convert_ids_to_tokens(input_ids, skip_special_tokens=True)\n",
        "        result['length'].append(len(toks)+2)\n",
        "        result['tokenized'].append(' '.join(toks))\n",
        "    return result\n",
        "\n",
        "train_dataset = train_dataset.map(\n",
        "    preprocess_function,\n",
        "    batched=True,\n",
        "    desc=\"Running tokenizer on train dataset\",\n",
        ")\n",
        "\n",
        "eval_dataset = eval_dataset.map(\n",
        "    preprocess_function,\n",
        "    batched=True,\n",
        "    desc=\"Running tokenizer on validation dataset\",\n",
        ")\n",
        "\n",
        "test_dataset = test_dataset.map(\n",
        "    preprocess_function,\n",
        "    batched=True,\n",
        "    desc=\"Running tokenizer on validation dataset\",\n",
        ")"
      ],
      "metadata": {
        "colab": {
          "base_uri": "https://localhost:8080/",
          "height": 113,
          "referenced_widgets": [
            "d611d0d19cf14dc9ad8cff231edf87c5",
            "8e760eedf5d94a9781be43defa8d2a6f",
            "39597a7f53a549b38bc14ac36bc6ddb8",
            "bc29febe4dc1409ebdc4aef6bb24c433",
            "6d041a7fe9ce4a418e42acbd2aff2a93",
            "0f4bb0bc754840cfa64620d9100c350b",
            "5f574f2019b44b3d97efd0ad7f362eca",
            "fc9ffd1e068b4748b9ea17a3316b417f",
            "6d2d9ac84039447e95bcfe4c1109fc47",
            "841593637f0148c99fe2718bd2a187ff",
            "01bb013f92b2420692a5d8617e111ae8",
            "17232dd1b8384609bd5740d66e2bbe80",
            "d527af2b43e740bca9c68f1c99e4da5d",
            "f32ec1fe034c49678a15aa4e5f2c0b27",
            "3cbf03a9a5cb47508946ae632b4f519b",
            "a29a0b8727ad4499bba1a25f32805e95",
            "13b14bad092847979798f6108f86b7f4",
            "0f117231821a44ee883507d2a4cd63a1",
            "ee3c10d82cef43bbac7b745867f677e8",
            "6ed6ee5c52ae42708ac11f94b8e80fe4",
            "698dfdee610842b7ab541cfa77e6c766",
            "a7cbf1bc4b1b4a27be6f387e23c7556b",
            "5e0f9582c65d4daa9193f7a5e6003b97",
            "6c17b8daedb84502888c7b631b044ace",
            "f292de9acca44f6199934a9d4e736f3b",
            "8f888e3b38a546e4868ed98602a8ee54",
            "1047c8dc5ca946508403ef777d65bb00",
            "548570fca8c34bf0932ce63e5056e50e",
            "60efe5d4805f400dad95d24e29d21782",
            "40500311638e40ee8f47b2032a22fe03",
            "2d5953bc080d497d86d2f6698ce0ab1f",
            "0e0cec941dc64745a2f8340ff8534d10",
            "808e883933fb4d7196f3c40502f76bca"
          ]
        },
        "id": "Vch50D8alOkf",
        "outputId": "3650f4aa-5310-40c2-d82e-7fb6d1c3c525"
      },
      "execution_count": 48,
      "outputs": [
        {
          "output_type": "display_data",
          "data": {
            "text/plain": [
              "Running tokenizer on train dataset:   0%|          | 0/4 [00:00<?, ?ba/s]"
            ],
            "application/vnd.jupyter.widget-view+json": {
              "version_major": 2,
              "version_minor": 0,
              "model_id": "d611d0d19cf14dc9ad8cff231edf87c5"
            }
          },
          "metadata": {}
        },
        {
          "output_type": "display_data",
          "data": {
            "text/plain": [
              "Running tokenizer on validation dataset:   0%|          | 0/1 [00:00<?, ?ba/s]"
            ],
            "application/vnd.jupyter.widget-view+json": {
              "version_major": 2,
              "version_minor": 0,
              "model_id": "17232dd1b8384609bd5740d66e2bbe80"
            }
          },
          "metadata": {}
        },
        {
          "output_type": "display_data",
          "data": {
            "text/plain": [
              "Running tokenizer on validation dataset:   0%|          | 0/1 [00:00<?, ?ba/s]"
            ],
            "application/vnd.jupyter.widget-view+json": {
              "version_major": 2,
              "version_minor": 0,
              "model_id": "5e0f9582c65d4daa9193f7a5e6003b97"
            }
          },
          "metadata": {}
        }
      ]
    },
    {
      "cell_type": "code",
      "source": [
        "train_dataset, eval_dataset, test_dataset"
      ],
      "metadata": {
        "colab": {
          "base_uri": "https://localhost:8080/"
        },
        "id": "IBLRYgidnAR7",
        "outputId": "47e14572-0b51-4019-8094-bdb46cc34fab"
      },
      "execution_count": 49,
      "outputs": [
        {
          "output_type": "execute_result",
          "data": {
            "text/plain": [
              "(Dataset({\n",
              "     features: ['text', 'label', '__index_level_0__', 'input_ids', 'token_type_ids', 'attention_mask', 'length', 'tokenized'],\n",
              "     num_rows: 3188\n",
              " }), Dataset({\n",
              "     features: ['text', 'label', '__index_level_0__', 'input_ids', 'token_type_ids', 'attention_mask', 'length', 'tokenized'],\n",
              "     num_rows: 479\n",
              " }), Dataset({\n",
              "     features: ['text', 'label', '__index_level_0__', 'input_ids', 'token_type_ids', 'attention_mask', 'length', 'tokenized'],\n",
              "     num_rows: 885\n",
              " }))"
            ]
          },
          "metadata": {},
          "execution_count": 49
        }
      ]
    },
    {
      "cell_type": "code",
      "source": [
        "train_text, train_labels = train_dataset['tokenized'], train_dataset['label']\n",
        "eval_text, eval_labels = eval_dataset['tokenized'], eval_dataset['label']\n",
        "test_text, test_labels = test_dataset['tokenized'], test_dataset['label']"
      ],
      "metadata": {
        "id": "mcIYSxZGnURO"
      },
      "execution_count": 50,
      "outputs": []
    },
    {
      "cell_type": "markdown",
      "source": [
        "Class proportions"
      ],
      "metadata": {
        "id": "aGpmqyDWoftC"
      }
    },
    {
      "cell_type": "code",
      "source": [
        "for l in np.unique(test_labels):\n",
        "  print(l, np.mean(np.array(test_labels) == l), \n",
        "        f1_score(test_labels, [l] * len(test_labels), average='weighted'), \n",
        "        balanced_accuracy_score(test_labels, [l] * len(test_labels)))"
      ],
      "metadata": {
        "colab": {
          "base_uri": "https://localhost:8080/"
        },
        "id": "myjx9muJnpWA",
        "outputId": "6b850d49-d904-45f6-bf2a-2d35f7574f2a"
      },
      "execution_count": 51,
      "outputs": [
        {
          "output_type": "stream",
          "name": "stdout",
          "text": [
            "0 0.38305084745762713 0.21218012628780325 0.3333333333333333\n",
            "1 0.3480225988700565 0.17969984987758153 0.3333333333333333\n",
            "2 0.2689265536723164 0.11398845908105305 0.3333333333333333\n"
          ]
        }
      ]
    },
    {
      "cell_type": "markdown",
      "source": [
        "Unigram, bigram, trigram BOW and TF-IDF\n",
        "\n"
      ],
      "metadata": {
        "id": "JVMXjkDWqAts"
      }
    },
    {
      "cell_type": "code",
      "source": [
        "unigram_vectorizer = CountVectorizer(ngram_range=(1, 1), max_features=100000, min_df=7, max_df=0.8)\n",
        "unigram_vectorizer.fit(train_text)\n",
        "X_train_unigram = unigram_vectorizer.transform(train_text)\n",
        "X_eval_unigram = unigram_vectorizer.transform(eval_text)\n",
        "X_test_unigram = unigram_vectorizer.transform(test_text)\n",
        "\n",
        "unigram_tf_idf_transformer = TfidfTransformer()\n",
        "unigram_tf_idf_transformer.fit(X_train_unigram)\n",
        "X_train_unigram_tf_idf = unigram_tf_idf_transformer.transform(X_train_unigram)\n",
        "X_eval_unigram_tf_idf = unigram_tf_idf_transformer.transform(X_eval_unigram)\n",
        "X_test_unigram_tf_idf = unigram_tf_idf_transformer.transform(X_test_unigram)\n",
        "\n",
        "bigram_vectorizer = CountVectorizer(ngram_range=(1, 2), max_features=100000, min_df=7, max_df=0.8)\n",
        "bigram_vectorizer.fit(train_text)\n",
        "X_train_bigram = bigram_vectorizer.transform(train_text)\n",
        "X_eval_bigram = bigram_vectorizer.transform(eval_text)\n",
        "X_test_bigram = bigram_vectorizer.transform(test_text)\n",
        "\n",
        "bigram_tf_idf_transformer = TfidfTransformer()\n",
        "bigram_tf_idf_transformer.fit(X_train_bigram)\n",
        "X_train_bigram_tf_idf = bigram_tf_idf_transformer.transform(X_train_bigram)\n",
        "X_eval_bigram_tf_idf = bigram_tf_idf_transformer.transform(X_eval_bigram)\n",
        "X_test_bigram_tf_idf = bigram_tf_idf_transformer.transform(X_test_bigram)\n",
        "\n",
        "trigram_vectorizer = CountVectorizer(ngram_range=(1, 3), max_features=100000, min_df=7, max_df=0.8)\n",
        "trigram_vectorizer.fit(train_text)\n",
        "X_train_trigram = trigram_vectorizer.transform(train_text)\n",
        "X_eval_trigram = trigram_vectorizer.transform(eval_text)\n",
        "X_test_trigram = trigram_vectorizer.transform(test_text)\n",
        "\n",
        "trigram_tf_idf_transformer = TfidfTransformer()\n",
        "trigram_tf_idf_transformer.fit(X_train_trigram)\n",
        "X_train_trigram_tf_idf =trigram_tf_idf_transformer.transform(X_train_trigram)\n",
        "X_eval_trigram_tf_idf =trigram_tf_idf_transformer.transform(X_eval_trigram)\n",
        "X_test_trigram_tf_idf =trigram_tf_idf_transformer.transform(X_test_trigram)"
      ],
      "metadata": {
        "id": "ulowl8HjohNo"
      },
      "execution_count": 52,
      "outputs": []
    },
    {
      "cell_type": "markdown",
      "source": [
        "MultinomialNB, SVM, Logistic Regression, Random Forest, AdaDTC, MLP"
      ],
      "metadata": {
        "id": "Iy4TA8IBqNm-"
      }
    },
    {
      "cell_type": "code",
      "source": [
        "def AdaDTC(**params):\n",
        "    base_params = {}\n",
        "    for k, v in list(params.items()):\n",
        "        if k[:16] == 'base_estimator__':\n",
        "            base_params[k[16:]] = v\n",
        "            del params[k]\n",
        "    return AdaBoostClassifier(base_estimator=DecisionTreeClassifier(**base_params), **params)\n",
        "\n",
        "classifiers = [\n",
        "    (MultinomialNB, [\n",
        "        {'alpha': 1e-3}, {'alpha': 0.1}, {'alpha': 1}, {'alpha': 10}, {'alpha': 1e3},\n",
        "    ]), \n",
        "    (SVC, [\n",
        "        {'C': 1, 'gamma': 'scale', 'kernel': 'rbf', 'max_iter': 1000},\n",
        "        {'C': 0.1, 'gamma': 'auto', 'kernel': 'rbf', 'max_iter': 1000},\n",
        "        {'C': 10, 'gamma': 'auto', 'kernel': 'rbf', 'max_iter': 1000},\n",
        "        {'C': 1, 'gamma': 'scale', 'kernel': 'linear', 'max_iter': 1000},\n",
        "        {'C': 0.1, 'gamma': 'auto', 'kernel': 'linear', 'max_iter': 1000},\n",
        "        {'C': 10, 'gamma': 'auto', 'kernel': 'linear', 'max_iter': 1000},\n",
        "    ]), \n",
        "    (LogisticRegression, [\n",
        "        {'C': 0.1, 'max_iter': 1000, 'penalty': 'l2'},\n",
        "        {'C': 1, 'max_iter': 1000, 'penalty': 'l2'},\n",
        "        {'C': 10, 'max_iter': 1000, 'penalty': 'l2'}\n",
        "    ]), \n",
        "    (RandomForestClassifier, [\n",
        "        {'criterion': 'gini', 'max_depth': 5, 'n_estimators': 500},\n",
        "        {'criterion': 'gini', 'max_depth': 2, 'n_estimators': 1000},\n",
        "    ]), \n",
        "    (AdaDTC, [\n",
        "        {'base_estimator__criterion': 'gini', 'base_estimator__max_depth': 5, \n",
        "          'base_estimator__splitter': 'best', 'learning_rate': 0.1, 'n_estimators': 500},\n",
        "        {'base_estimator__criterion': 'entropy', 'base_estimator__max_depth': 3, \n",
        "         'base_estimator__splitter': 'random', 'learning_rate': 1, 'n_estimators': 500},\n",
        "        {'base_estimator__criterion': 'entropy', 'base_estimator__max_depth': 2, \n",
        "         'base_estimator__splitter': 'random', 'learning_rate': 1, 'n_estimators': 1000}\n",
        "    ]),  \n",
        "    (MLPClassifier, [\n",
        "        {'activation': 'relu', 'alpha': 1, 'hidden_layer_sizes': (100,), 'learning_rate': 'constant'},\n",
        "        {'activation': 'tanh', 'alpha': 1, 'hidden_layer_sizes': (100,), 'learning_rate': 'adaptive'}\n",
        "    ])\n",
        "    ]\n",
        "\n",
        "X_train_data = {'unigram counts': X_train_unigram,\n",
        "                'unigram tf-idf': X_train_unigram_tf_idf,\n",
        "                'bigram counts': X_train_bigram, \n",
        "                'bigram tf-idf': X_train_bigram_tf_idf,\n",
        "                'trigram counts': X_train_trigram, \n",
        "                'trigram tf-idf': X_train_trigram_tf_idf}\n",
        "\n",
        "X_eval_data = {'unigram counts': X_eval_unigram,\n",
        "                'unigram tf-idf': X_eval_unigram_tf_idf,\n",
        "                'bigram counts': X_eval_bigram, \n",
        "                'bigram tf-idf': X_eval_bigram_tf_idf,\n",
        "                'trigram counts': X_eval_trigram, \n",
        "                'trigram tf-idf': X_eval_trigram_tf_idf}\n",
        "\n",
        "X_test_data = {'unigram counts': X_test_unigram,\n",
        "                'unigram tf-idf': X_test_unigram_tf_idf,\n",
        "                'bigram counts': X_test_bigram, \n",
        "                'bigram tf-idf': X_test_bigram_tf_idf,\n",
        "                'trigram counts': X_test_trigram, \n",
        "                'trigram tf-idf': X_test_trigram_tf_idf}\n",
        "\n",
        "def train_and_show_scores(title, model, parameters, k=5):\n",
        "\n",
        "    X_train, X_test = X_train_data[title], X_test_data[title]\n",
        "    y_train, y_test = train_labels, test_labels\n",
        "    X_eval, y_eval = X_eval_data[title], eval_labels\n",
        "    \n",
        "    \n",
        "    best_train, best_test, best_f1, best_balanced_accuracy, best_params = 0, 0, 0, 0, None\n",
        "    best_valid_f1 = 0\n",
        "    for params in parameters:\n",
        "        train_score, test_score, test_f1, test_balanced_accuracy = 0, 0, 0, 0\n",
        "        valid_f1 = 0\n",
        "        for _ in range(k):\n",
        "            clf = model(**params)\n",
        "            with warnings.catch_warnings(record=True) as w:\n",
        "                warnings.simplefilter(\"always\")\n",
        "                clf.fit(X_train, y_train)\n",
        "                train_score += clf.score(X_train, y_train) / k\n",
        "                test_score += clf.score(X_test, y_test) / k\n",
        "\n",
        "                preds = clf.predict(X_test)\n",
        "                test_f1 += f1_score(y_test, preds, average='weighted') / k\n",
        "                test_balanced_accuracy += balanced_accuracy_score(y_test, preds) / k\n",
        "            \n",
        "                preds = clf.predict(X_eval)\n",
        "                valid_f1 += f1_score(y_eval, preds, average='weighted') / k\n",
        "        \n",
        "        if valid_f1 > best_valid_f1:\n",
        "            best_train, best_test, best_f1, best_balanced_accuracy, best_params, best_valid_f1 = \\\n",
        "                train_score, test_score, test_f1, test_balanced_accuracy, params, valid_f1\n",
        "    \n",
        "    return best_valid_f1, f\"\"\"\n",
        "    {title}\n",
        "    Train score: {best_train:.3}\n",
        "    Eval score: {best_test:.3}\n",
        "    Balanced Accuracy: {best_balanced_accuracy:.3}\n",
        "    Weighted Test F1: {best_f1:.3}\n",
        "    Params: {best_params}\n",
        "    \"\"\""
      ],
      "metadata": {
        "id": "VoL6Eb84qNC5"
      },
      "execution_count": 53,
      "outputs": []
    },
    {
      "cell_type": "code",
      "source": [
        "# Get scores for multiple different models\n",
        "for model, parameters in classifiers:\n",
        "    print(model)\n",
        "    best_valid, best_scores = -1, ''\n",
        "    for title in ['unigram counts', 'unigram tf-idf', 'bigram counts', 'bigram tf-idf', 'trigram counts', 'trigram tf-idf']:\n",
        "        valid, scores = train_and_show_scores(title, model, parameters)\n",
        "        if valid > best_valid:\n",
        "            best_valid, best_scores = valid, scores\n",
        "    print(best_scores)"
      ],
      "metadata": {
        "colab": {
          "base_uri": "https://localhost:8080/"
        },
        "id": "H0CfFluEqIqj",
        "outputId": "c5ce27de-7207-4d66-f369-3d8a501769e7"
      },
      "execution_count": 54,
      "outputs": [
        {
          "output_type": "stream",
          "name": "stdout",
          "text": [
            "<class 'sklearn.naive_bayes.MultinomialNB'>\n",
            "\n",
            "    bigram counts\n",
            "    Train score: 0.672\n",
            "    Eval score: 0.645\n",
            "    Balanced Accuracy: 0.641\n",
            "    Weighted Test F1: 0.644\n",
            "    Params: {'alpha': 1}\n",
            "    \n",
            "<class 'sklearn.svm._classes.SVC'>\n",
            "\n",
            "    unigram tf-idf\n",
            "    Train score: 0.715\n",
            "    Eval score: 0.632\n",
            "    Balanced Accuracy: 0.629\n",
            "    Weighted Test F1: 0.631\n",
            "    Params: {'C': 1, 'gamma': 'scale', 'kernel': 'rbf', 'max_iter': 1000}\n",
            "    \n",
            "<class 'sklearn.linear_model._logistic.LogisticRegression'>\n",
            "\n",
            "    bigram counts\n",
            "    Train score: 0.672\n",
            "    Eval score: 0.641\n",
            "    Balanced Accuracy: 0.633\n",
            "    Weighted Test F1: 0.643\n",
            "    Params: {'C': 1, 'max_iter': 1000, 'penalty': 'l2'}\n",
            "    \n",
            "<class 'sklearn.ensemble._forest.RandomForestClassifier'>\n",
            "\n",
            "    bigram counts\n",
            "    Train score: 0.593\n",
            "    Eval score: 0.589\n",
            "    Balanced Accuracy: 0.567\n",
            "    Weighted Test F1: 0.576\n",
            "    Params: {'criterion': 'gini', 'max_depth': 5, 'n_estimators': 500}\n",
            "    \n",
            "<function AdaDTC at 0x7f784e1aeee0>\n",
            "\n",
            "    unigram counts\n",
            "    Train score: 0.75\n",
            "    Eval score: 0.631\n",
            "    Balanced Accuracy: 0.63\n",
            "    Weighted Test F1: 0.632\n",
            "    Params: {'base_estimator__criterion': 'entropy', 'base_estimator__max_depth': 3, 'base_estimator__splitter': 'random', 'learning_rate': 1, 'n_estimators': 500}\n",
            "    \n",
            "<class 'sklearn.neural_network._multilayer_perceptron.MLPClassifier'>\n",
            "\n",
            "    bigram counts\n",
            "    Train score: 0.677\n",
            "    Eval score: 0.645\n",
            "    Balanced Accuracy: 0.638\n",
            "    Weighted Test F1: 0.647\n",
            "    Params: {'activation': 'relu', 'alpha': 1, 'hidden_layer_sizes': (100,), 'learning_rate': 'constant'}\n",
            "    \n"
          ]
        }
      ]
    },
    {
      "cell_type": "code",
      "source": [],
      "metadata": {
        "id": "mzRZQwQ5rbPb"
      },
      "execution_count": 54,
      "outputs": []
    }
  ]
}