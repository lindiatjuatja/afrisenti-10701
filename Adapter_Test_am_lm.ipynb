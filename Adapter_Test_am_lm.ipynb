{
 "cells": [
  {
   "cell_type": "code",
   "execution_count": 1,
   "metadata": {},
   "outputs": [],
   "source": [
    "!pip install -Uq apache_beam mwparserfromhell"
   ]
  },
  {
   "cell_type": "code",
   "execution_count": 2,
   "metadata": {},
   "outputs": [
    {
     "name": "stderr",
     "output_type": "stream",
     "text": [
      "NOTE: Redirects are currently not supported in Windows or MacOs.\n"
     ]
    }
   ],
   "source": [
    "from itertools import chain\n",
    "\n",
    "import datasets\n",
    "from datasets import load_dataset, load_metric\n",
    "\n",
    "import transformers\n",
    "import transformers.adapters.composition as ac\n",
    "from transformers import (\n",
    "    AdapterTrainer,\n",
    "    AutoConfig,\n",
    "    AutoModelForMaskedLM,\n",
    "    AutoTokenizer,\n",
    "    DataCollatorForLanguageModeling,\n",
    "    MultiLingAdapterArguments,\n",
    "    TrainingArguments,\n",
    "    set_seed,\n",
    ")\n",
    "from transformers.adapters.configuration import AdapterConfig\n",
    "from transformers.trainer_utils import get_last_checkpoint\n",
    "from transformers.utils import check_min_version\n",
    "from transformers.utils.versions import require_version\n",
    "import math\n",
    "\n",
    "import gc\n",
    "import sys"
   ]
  },
  {
   "cell_type": "code",
   "execution_count": 3,
   "metadata": {},
   "outputs": [],
   "source": [
    "set_seed(42069)"
   ]
  },
  {
   "cell_type": "code",
   "execution_count": 4,
   "metadata": {},
   "outputs": [],
   "source": [
    "valid_percentage = 20\n",
    "language_code = \"am\"\n",
    "task_name = language_code + \"_mlm\"\n",
    "date = \"20221120\"\n",
    "\n",
    "training_args = TrainingArguments(language_code + '_output',\n",
    "    learning_rate=1e-4,\n",
    "    num_train_epochs=10.0, report_to=\"all\", \n",
    "    gradient_accumulation_steps=4,\n",
    "    per_device_train_batch_size=2, per_device_eval_batch_size=4)"
   ]
  },
  {
   "cell_type": "code",
   "execution_count": 5,
   "metadata": {
    "scrolled": true
   },
   "outputs": [
    {
     "name": "stderr",
     "output_type": "stream",
     "text": [
      "Using custom data configuration 20221120.am-date=20221120,language=am\n",
      "Found cached dataset wikipedia (C:/Users/Thomas/.cache/huggingface/datasets/wikipedia/20221120.am-date=20221120,language=am/2.0.0/aa542ed919df55cc5d3347f42dd4521d05ca68751f50dbc32bae2a7f1e167559)\n"
     ]
    },
    {
     "data": {
      "application/vnd.jupyter.widget-view+json": {
       "model_id": "04008772c3a54d898235983b4558d207",
       "version_major": 2,
       "version_minor": 0
      },
      "text/plain": [
       "  0%|          | 0/1 [00:00<?, ?it/s]"
      ]
     },
     "metadata": {},
     "output_type": "display_data"
    },
    {
     "name": "stderr",
     "output_type": "stream",
     "text": [
      "Using custom data configuration 20221120.am-date=20221120,language=am\n",
      "Found cached dataset wikipedia (C:/Users/Thomas/.cache/huggingface/datasets/wikipedia/20221120.am-date=20221120,language=am/2.0.0/aa542ed919df55cc5d3347f42dd4521d05ca68751f50dbc32bae2a7f1e167559)\n",
      "Using custom data configuration 20221120.am-date=20221120,language=am\n",
      "Found cached dataset wikipedia (C:/Users/Thomas/.cache/huggingface/datasets/wikipedia/20221120.am-date=20221120,language=am/2.0.0/aa542ed919df55cc5d3347f42dd4521d05ca68751f50dbc32bae2a7f1e167559)\n"
     ]
    },
    {
     "data": {
      "text/plain": [
       "(2740, 10960, 13700)"
      ]
     },
     "execution_count": 5,
     "metadata": {},
     "output_type": "execute_result"
    }
   ],
   "source": [
    "raw_datasets = load_dataset(\n",
    "    \"wikipedia\", language=language_code, date=date, beam_runner='DirectRunner'\n",
    ")\n",
    "raw_datasets[\"validation\"] = load_dataset(\n",
    "    \"wikipedia\", language=language_code, date=date, \n",
    "    split=f\"train[:{valid_percentage}%]\", beam_runner='DirectRunner'\n",
    ")\n",
    "raw_datasets[\"train\"] = load_dataset(\n",
    "    \"wikipedia\", language=language_code, date=date, \n",
    "    split=f\"train[{valid_percentage}%:]\", beam_runner='DirectRunner'\n",
    ")\n",
    "len(raw_datasets[\"validation\"]), len(raw_datasets[\"train\"]), len(raw_datasets[\"validation\"]) + len(raw_datasets[\"train\"])"
   ]
  },
  {
   "cell_type": "code",
   "execution_count": 6,
   "metadata": {},
   "outputs": [],
   "source": [
    "tokenizer = AutoTokenizer.from_pretrained(\"xlm-roberta-base\")\n",
    "model = AutoModelForMaskedLM.from_pretrained(\"xlm-roberta-base\")\n",
    "# model.resize_token_embeddings(len(tokenizer))"
   ]
  },
  {
   "cell_type": "code",
   "execution_count": 7,
   "metadata": {},
   "outputs": [],
   "source": [
    "adapter_config = AdapterConfig.load(\"pfeiffer\") # AdapterConfig.load(\"pfeiffer+inv\")\n",
    "model.add_adapter(task_name, config=adapter_config)"
   ]
  },
  {
   "cell_type": "code",
   "execution_count": 8,
   "metadata": {},
   "outputs": [],
   "source": [
    "model.train_adapter([task_name])\n",
    "model.set_active_adapters(task_name)"
   ]
  },
  {
   "cell_type": "code",
   "execution_count": 9,
   "metadata": {},
   "outputs": [],
   "source": [
    "column_names = raw_datasets[\"train\"].column_names\n",
    "text_column_name = \"text\"\n",
    "max_seq_length = tokenizer.model_max_length"
   ]
  },
  {
   "cell_type": "code",
   "execution_count": 10,
   "metadata": {},
   "outputs": [
    {
     "name": "stderr",
     "output_type": "stream",
     "text": [
      "Loading cached processed dataset at C:/Users/Thomas/.cache/huggingface/datasets/wikipedia/20221120.am-date=20221120,language=am/2.0.0/aa542ed919df55cc5d3347f42dd4521d05ca68751f50dbc32bae2a7f1e167559\\cache-c997e72a580614a1.arrow\n",
      "Loading cached processed dataset at C:/Users/Thomas/.cache/huggingface/datasets/wikipedia/20221120.am-date=20221120,language=am/2.0.0/aa542ed919df55cc5d3347f42dd4521d05ca68751f50dbc32bae2a7f1e167559\\cache-15ca0dcbcc2c756a.arrow\n"
     ]
    }
   ],
   "source": [
    "def tokenize_function(examples):\n",
    "    return tokenizer(examples[text_column_name], return_special_tokens_mask=True)\n",
    "\n",
    "tokenized_datasets = raw_datasets.map(\n",
    "    tokenize_function,\n",
    "    batched=True,\n",
    "    remove_columns=column_names\n",
    ")"
   ]
  },
  {
   "cell_type": "code",
   "execution_count": 11,
   "metadata": {},
   "outputs": [
    {
     "name": "stderr",
     "output_type": "stream",
     "text": [
      "Loading cached processed dataset at C:/Users/Thomas/.cache/huggingface/datasets/wikipedia/20221120.am-date=20221120,language=am/2.0.0/aa542ed919df55cc5d3347f42dd4521d05ca68751f50dbc32bae2a7f1e167559\\cache-83306ecabf824b2c.arrow\n",
      "Loading cached processed dataset at C:/Users/Thomas/.cache/huggingface/datasets/wikipedia/20221120.am-date=20221120,language=am/2.0.0/aa542ed919df55cc5d3347f42dd4521d05ca68751f50dbc32bae2a7f1e167559\\cache-191f54503cc493bf.arrow\n"
     ]
    }
   ],
   "source": [
    "def group_texts(examples):\n",
    "    concatenated_examples = {k: list(chain(*examples[k])) for k in examples.keys()}\n",
    "    total_length = len(concatenated_examples[list(examples.keys())[0]])\n",
    "    if total_length >= max_seq_length:\n",
    "        total_length = (total_length // max_seq_length) * max_seq_length\n",
    "    result = {\n",
    "        k: [t[i : i + max_seq_length] for i in range(0, total_length, max_seq_length)]\n",
    "        for k, t in concatenated_examples.items()\n",
    "    }\n",
    "    return result\n",
    "\n",
    "tokenized_datasets = tokenized_datasets.map(\n",
    "    group_texts,\n",
    "    batched=True\n",
    ")"
   ]
  },
  {
   "cell_type": "code",
   "execution_count": 12,
   "metadata": {},
   "outputs": [
    {
     "name": "stderr",
     "output_type": "stream",
     "text": [
      "C:\\Users\\Thomas\\AppData\\Local\\Temp\\ipykernel_18464\\2872494391.py:8: FutureWarning: load_metric is deprecated and will be removed in the next major version of datasets. Use 'evaluate.load' instead, from the new library 🤗 Evaluate: https://huggingface.co/docs/evaluate\n",
      "  metric = load_metric(\"accuracy\")\n"
     ]
    }
   ],
   "source": [
    "train_dataset = tokenized_datasets[\"train\"]\n",
    "eval_dataset = tokenized_datasets[\"validation\"]\n",
    "def preprocess_logits_for_metrics(logits, labels):\n",
    "    if isinstance(logits, tuple):\n",
    "        logits = logits[0]\n",
    "    return logits.argmax(dim=-1)\n",
    "\n",
    "metric = load_metric(\"accuracy\")\n",
    "\n",
    "def compute_metrics(eval_preds):\n",
    "    preds, labels = eval_preds\n",
    "    labels = labels.reshape(-1)\n",
    "    preds = preds.reshape(-1)\n",
    "    mask = labels != -100\n",
    "    labels = labels[mask]\n",
    "    preds = preds[mask]\n",
    "    return metric.compute(predictions=preds, references=labels)"
   ]
  },
  {
   "cell_type": "code",
   "execution_count": 13,
   "metadata": {},
   "outputs": [],
   "source": [
    "data_collator = DataCollatorForLanguageModeling(\n",
    "        tokenizer=tokenizer,\n",
    "        mlm_probability=0.15)"
   ]
  },
  {
   "cell_type": "code",
   "execution_count": 14,
   "metadata": {},
   "outputs": [],
   "source": [
    "trainer = AdapterTrainer(\n",
    "    model=model,\n",
    "    args=training_args,\n",
    "    train_dataset=train_dataset,\n",
    "    eval_dataset=eval_dataset,\n",
    "    tokenizer=tokenizer,\n",
    "    data_collator=data_collator,\n",
    "    compute_metrics=compute_metrics,\n",
    "    preprocess_logits_for_metrics=preprocess_logits_for_metrics\n",
    ")\n"
   ]
  },
  {
   "cell_type": "code",
   "execution_count": 15,
   "metadata": {},
   "outputs": [
    {
     "name": "stderr",
     "output_type": "stream",
     "text": [
      "The following columns in the training set don't have a corresponding argument in `XLMRobertaForMaskedLM.forward` and have been ignored: special_tokens_mask. If special_tokens_mask are not expected by `XLMRobertaForMaskedLM.forward`,  you can safely ignore this message.\n",
      "C:\\Users\\Thomas\\anaconda3\\lib\\site-packages\\transformers\\optimization.py:306: FutureWarning: This implementation of AdamW is deprecated and will be removed in a future version. Use the PyTorch implementation torch.optim.AdamW instead, or set `no_deprecation_warning=True` to disable this warning\n",
      "  warnings.warn(\n",
      "***** Running training *****\n",
      "  Num examples = 5151\n",
      "  Num Epochs = 10\n",
      "  Instantaneous batch size per device = 2\n",
      "  Total train batch size (w. parallel, distributed & accumulation) = 8\n",
      "  Gradient Accumulation steps = 4\n",
      "  Total optimization steps = 6440\n"
     ]
    },
    {
     "data": {
      "text/html": [
       "\n",
       "    <div>\n",
       "      \n",
       "      <progress value='6440' max='6440' style='width:300px; height:20px; vertical-align: middle;'></progress>\n",
       "      [6440/6440 1:29:24, Epoch 10/10]\n",
       "    </div>\n",
       "    <table border=\"1\" class=\"dataframe\">\n",
       "  <thead>\n",
       " <tr style=\"text-align: left;\">\n",
       "      <th>Step</th>\n",
       "      <th>Training Loss</th>\n",
       "    </tr>\n",
       "  </thead>\n",
       "  <tbody>\n",
       "    <tr>\n",
       "      <td>500</td>\n",
       "      <td>2.197700</td>\n",
       "    </tr>\n",
       "    <tr>\n",
       "      <td>1000</td>\n",
       "      <td>1.978700</td>\n",
       "    </tr>\n",
       "    <tr>\n",
       "      <td>1500</td>\n",
       "      <td>1.943200</td>\n",
       "    </tr>\n",
       "    <tr>\n",
       "      <td>2000</td>\n",
       "      <td>1.923800</td>\n",
       "    </tr>\n",
       "    <tr>\n",
       "      <td>2500</td>\n",
       "      <td>1.903600</td>\n",
       "    </tr>\n",
       "    <tr>\n",
       "      <td>3000</td>\n",
       "      <td>1.878300</td>\n",
       "    </tr>\n",
       "    <tr>\n",
       "      <td>3500</td>\n",
       "      <td>1.870600</td>\n",
       "    </tr>\n",
       "    <tr>\n",
       "      <td>4000</td>\n",
       "      <td>1.866600</td>\n",
       "    </tr>\n",
       "    <tr>\n",
       "      <td>4500</td>\n",
       "      <td>1.843500</td>\n",
       "    </tr>\n",
       "    <tr>\n",
       "      <td>5000</td>\n",
       "      <td>1.843200</td>\n",
       "    </tr>\n",
       "    <tr>\n",
       "      <td>5500</td>\n",
       "      <td>1.849300</td>\n",
       "    </tr>\n",
       "    <tr>\n",
       "      <td>6000</td>\n",
       "      <td>1.849600</td>\n",
       "    </tr>\n",
       "  </tbody>\n",
       "</table><p>"
      ],
      "text/plain": [
       "<IPython.core.display.HTML object>"
      ]
     },
     "metadata": {},
     "output_type": "display_data"
    },
    {
     "name": "stderr",
     "output_type": "stream",
     "text": [
      "Saving model checkpoint to am_output\\checkpoint-500\n",
      "Configuration saved in am_output\\checkpoint-500\\am_mlm\\adapter_config.json\n",
      "Module weights saved in am_output\\checkpoint-500\\am_mlm\\pytorch_adapter.bin\n",
      "Configuration saved in am_output\\checkpoint-500\\am_mlm\\head_config.json\n",
      "Module weights saved in am_output\\checkpoint-500\\am_mlm\\pytorch_model_head.bin\n",
      "tokenizer config file saved in am_output\\checkpoint-500\\tokenizer_config.json\n",
      "Special tokens file saved in am_output\\checkpoint-500\\special_tokens_map.json\n",
      "Saving model checkpoint to am_output\\checkpoint-1000\n",
      "Configuration saved in am_output\\checkpoint-1000\\am_mlm\\adapter_config.json\n",
      "Module weights saved in am_output\\checkpoint-1000\\am_mlm\\pytorch_adapter.bin\n",
      "Configuration saved in am_output\\checkpoint-1000\\am_mlm\\head_config.json\n",
      "Module weights saved in am_output\\checkpoint-1000\\am_mlm\\pytorch_model_head.bin\n",
      "tokenizer config file saved in am_output\\checkpoint-1000\\tokenizer_config.json\n",
      "Special tokens file saved in am_output\\checkpoint-1000\\special_tokens_map.json\n",
      "Saving model checkpoint to am_output\\checkpoint-1500\n",
      "Configuration saved in am_output\\checkpoint-1500\\am_mlm\\adapter_config.json\n",
      "Module weights saved in am_output\\checkpoint-1500\\am_mlm\\pytorch_adapter.bin\n",
      "Configuration saved in am_output\\checkpoint-1500\\am_mlm\\head_config.json\n",
      "Module weights saved in am_output\\checkpoint-1500\\am_mlm\\pytorch_model_head.bin\n",
      "tokenizer config file saved in am_output\\checkpoint-1500\\tokenizer_config.json\n",
      "Special tokens file saved in am_output\\checkpoint-1500\\special_tokens_map.json\n",
      "Saving model checkpoint to am_output\\checkpoint-2000\n",
      "Configuration saved in am_output\\checkpoint-2000\\am_mlm\\adapter_config.json\n",
      "Module weights saved in am_output\\checkpoint-2000\\am_mlm\\pytorch_adapter.bin\n",
      "Configuration saved in am_output\\checkpoint-2000\\am_mlm\\head_config.json\n",
      "Module weights saved in am_output\\checkpoint-2000\\am_mlm\\pytorch_model_head.bin\n",
      "tokenizer config file saved in am_output\\checkpoint-2000\\tokenizer_config.json\n",
      "Special tokens file saved in am_output\\checkpoint-2000\\special_tokens_map.json\n",
      "Saving model checkpoint to am_output\\checkpoint-2500\n",
      "Configuration saved in am_output\\checkpoint-2500\\am_mlm\\adapter_config.json\n",
      "Module weights saved in am_output\\checkpoint-2500\\am_mlm\\pytorch_adapter.bin\n",
      "Configuration saved in am_output\\checkpoint-2500\\am_mlm\\head_config.json\n",
      "Module weights saved in am_output\\checkpoint-2500\\am_mlm\\pytorch_model_head.bin\n",
      "tokenizer config file saved in am_output\\checkpoint-2500\\tokenizer_config.json\n",
      "Special tokens file saved in am_output\\checkpoint-2500\\special_tokens_map.json\n",
      "Saving model checkpoint to am_output\\checkpoint-3000\n",
      "Configuration saved in am_output\\checkpoint-3000\\am_mlm\\adapter_config.json\n",
      "Module weights saved in am_output\\checkpoint-3000\\am_mlm\\pytorch_adapter.bin\n",
      "Configuration saved in am_output\\checkpoint-3000\\am_mlm\\head_config.json\n",
      "Module weights saved in am_output\\checkpoint-3000\\am_mlm\\pytorch_model_head.bin\n",
      "tokenizer config file saved in am_output\\checkpoint-3000\\tokenizer_config.json\n",
      "Special tokens file saved in am_output\\checkpoint-3000\\special_tokens_map.json\n",
      "Saving model checkpoint to am_output\\checkpoint-3500\n",
      "Configuration saved in am_output\\checkpoint-3500\\am_mlm\\adapter_config.json\n",
      "Module weights saved in am_output\\checkpoint-3500\\am_mlm\\pytorch_adapter.bin\n",
      "Configuration saved in am_output\\checkpoint-3500\\am_mlm\\head_config.json\n",
      "Module weights saved in am_output\\checkpoint-3500\\am_mlm\\pytorch_model_head.bin\n",
      "tokenizer config file saved in am_output\\checkpoint-3500\\tokenizer_config.json\n",
      "Special tokens file saved in am_output\\checkpoint-3500\\special_tokens_map.json\n",
      "Saving model checkpoint to am_output\\checkpoint-4000\n",
      "Configuration saved in am_output\\checkpoint-4000\\am_mlm\\adapter_config.json\n",
      "Module weights saved in am_output\\checkpoint-4000\\am_mlm\\pytorch_adapter.bin\n",
      "Configuration saved in am_output\\checkpoint-4000\\am_mlm\\head_config.json\n",
      "Module weights saved in am_output\\checkpoint-4000\\am_mlm\\pytorch_model_head.bin\n",
      "tokenizer config file saved in am_output\\checkpoint-4000\\tokenizer_config.json\n",
      "Special tokens file saved in am_output\\checkpoint-4000\\special_tokens_map.json\n",
      "Saving model checkpoint to am_output\\checkpoint-4500\n",
      "Configuration saved in am_output\\checkpoint-4500\\am_mlm\\adapter_config.json\n",
      "Module weights saved in am_output\\checkpoint-4500\\am_mlm\\pytorch_adapter.bin\n",
      "Configuration saved in am_output\\checkpoint-4500\\am_mlm\\head_config.json\n",
      "Module weights saved in am_output\\checkpoint-4500\\am_mlm\\pytorch_model_head.bin\n",
      "tokenizer config file saved in am_output\\checkpoint-4500\\tokenizer_config.json\n",
      "Special tokens file saved in am_output\\checkpoint-4500\\special_tokens_map.json\n",
      "Saving model checkpoint to am_output\\checkpoint-5000\n",
      "Configuration saved in am_output\\checkpoint-5000\\am_mlm\\adapter_config.json\n",
      "Module weights saved in am_output\\checkpoint-5000\\am_mlm\\pytorch_adapter.bin\n",
      "Configuration saved in am_output\\checkpoint-5000\\am_mlm\\head_config.json\n",
      "Module weights saved in am_output\\checkpoint-5000\\am_mlm\\pytorch_model_head.bin\n",
      "tokenizer config file saved in am_output\\checkpoint-5000\\tokenizer_config.json\n",
      "Special tokens file saved in am_output\\checkpoint-5000\\special_tokens_map.json\n",
      "Saving model checkpoint to am_output\\checkpoint-5500\n",
      "Configuration saved in am_output\\checkpoint-5500\\am_mlm\\adapter_config.json\n",
      "Module weights saved in am_output\\checkpoint-5500\\am_mlm\\pytorch_adapter.bin\n",
      "Configuration saved in am_output\\checkpoint-5500\\am_mlm\\head_config.json\n",
      "Module weights saved in am_output\\checkpoint-5500\\am_mlm\\pytorch_model_head.bin\n",
      "tokenizer config file saved in am_output\\checkpoint-5500\\tokenizer_config.json\n",
      "Special tokens file saved in am_output\\checkpoint-5500\\special_tokens_map.json\n",
      "Saving model checkpoint to am_output\\checkpoint-6000\n",
      "Configuration saved in am_output\\checkpoint-6000\\am_mlm\\adapter_config.json\n",
      "Module weights saved in am_output\\checkpoint-6000\\am_mlm\\pytorch_adapter.bin\n",
      "Configuration saved in am_output\\checkpoint-6000\\am_mlm\\head_config.json\n",
      "Module weights saved in am_output\\checkpoint-6000\\am_mlm\\pytorch_model_head.bin\n",
      "tokenizer config file saved in am_output\\checkpoint-6000\\tokenizer_config.json\n",
      "Special tokens file saved in am_output\\checkpoint-6000\\special_tokens_map.json\n",
      "\n",
      "\n",
      "Training completed. Do not forget to share your model on huggingface.co/models =)\n",
      "\n",
      "\n",
      "Saving model checkpoint to am_output\n",
      "Configuration saved in am_output\\am_mlm\\adapter_config.json\n",
      "Module weights saved in am_output\\am_mlm\\pytorch_adapter.bin\n",
      "Configuration saved in am_output\\am_mlm\\head_config.json\n",
      "Module weights saved in am_output\\am_mlm\\pytorch_model_head.bin\n",
      "tokenizer config file saved in am_output\\tokenizer_config.json\n",
      "Special tokens file saved in am_output\\special_tokens_map.json\n"
     ]
    }
   ],
   "source": [
    "train_result = trainer.train()\n",
    "trainer.save_model()\n",
    "\n",
    "metrics = train_result.metrics\n",
    "metrics[\"train_samples\"] = len(train_dataset)\n",
    "\n",
    "trainer.save_metrics(\"train\", metrics)\n",
    "trainer.save_state()"
   ]
  },
  {
   "cell_type": "code",
   "execution_count": 16,
   "metadata": {},
   "outputs": [
    {
     "name": "stderr",
     "output_type": "stream",
     "text": [
      "The following columns in the evaluation set don't have a corresponding argument in `XLMRobertaForMaskedLM.forward` and have been ignored: special_tokens_mask. If special_tokens_mask are not expected by `XLMRobertaForMaskedLM.forward`,  you can safely ignore this message.\n",
      "***** Running Evaluation *****\n",
      "  Num examples = 2696\n",
      "  Batch size = 4\n"
     ]
    },
    {
     "data": {
      "text/html": [
       "\n",
       "    <div>\n",
       "      \n",
       "      <progress value='674' max='674' style='width:300px; height:20px; vertical-align: middle;'></progress>\n",
       "      [674/674 02:30]\n",
       "    </div>\n",
       "    "
      ],
      "text/plain": [
       "<IPython.core.display.HTML object>"
      ]
     },
     "metadata": {},
     "output_type": "display_data"
    }
   ],
   "source": [
    "metrics = trainer.evaluate()\n",
    "\n",
    "metrics[\"eval_samples\"] = len(eval_dataset)\n",
    "\n",
    "try:\n",
    "    perplexity = math.exp(metrics[\"eval_loss\"])\n",
    "except OverflowError:\n",
    "    perplexity = float(\"inf\")\n",
    "    \n",
    "metrics[\"perplexity\"] = perplexity\n",
    "\n",
    "trainer.save_metrics(\"eval\", metrics)"
   ]
  },
  {
   "cell_type": "code",
   "execution_count": 17,
   "metadata": {},
   "outputs": [
    {
     "name": "stderr",
     "output_type": "stream",
     "text": [
      "Configuration saved in am_output/lm_am_6.423\\adapter_config.json\n",
      "Module weights saved in am_output/lm_am_6.423\\pytorch_adapter.bin\n",
      "Configuration saved in am_output/lm_am_6.423\\head_config.json\n",
      "Module weights saved in am_output/lm_am_6.423\\pytorch_model_head.bin\n"
     ]
    }
   ],
   "source": [
    "model.save_adapter(language_code + f'_output/lm_{language_code}_{perplexity:.3f}', task_name)\n",
    "\n",
    "adapter_loc = f'{language_code}_output/lm_{language_code}_{perplexity:.3f}'"
   ]
  },
  {
   "cell_type": "code",
   "execution_count": 18,
   "metadata": {},
   "outputs": [
    {
     "data": {
      "text/plain": [
       "5587"
      ]
     },
     "execution_count": 18,
     "metadata": {},
     "output_type": "execute_result"
    }
   ],
   "source": [
    "this = sys.modules[__name__]\n",
    "for n in dir():\n",
    "    if n[0]!='_' and n not in ['this', 'adapter_loc', 'gc']: delattr(this, n)\n",
    "del n\n",
    "del this\n",
    "gc.collect()"
   ]
  },
  {
   "cell_type": "code",
   "execution_count": 19,
   "metadata": {},
   "outputs": [],
   "source": [
    "import pandas as pd\n",
    "from transformers import AutoAdapterModel, AdapterConfig, AutoTokenizer, AutoConfig\n",
    "import torch\n",
    "import numpy as np\n",
    "from sklearn.metrics import f1_score, balanced_accuracy_score\n",
    "from transformers.adapters.composition import Stack"
   ]
  },
  {
   "cell_type": "code",
   "execution_count": 21,
   "metadata": {},
   "outputs": [],
   "source": [
    "\n",
    "en_train = pd.read_csv(\"data/en_all.csv\")\n",
    "en_train, en_test = np.split(en_train.sample(frac=1, random_state=42), [int(.8*len(en_train))])\n",
    "\n",
    "am_train = pd.read_csv('data/am/am_train_translated.csv')\n",
    "am_train, am_dev, am_test = np.split(\n",
    "    am_train.sample(frac=1, random_state=42), [int(.7*len(am_train)), int(.8*len(am_train))])"
   ]
  },
  {
   "cell_type": "code",
   "execution_count": 22,
   "metadata": {},
   "outputs": [],
   "source": [
    "combined_train = pd.concat([\n",
    "    en_train[['text', 'labels']]\n",
    "])\n",
    "\n",
    "combined_test = pd.concat([\n",
    "    am_test[['eng_translated', 'label']].rename(columns={'eng_translated':'text', 'label':'labels'}),\n",
    "    am_dev[['eng_translated', 'label']].rename(columns={'eng_translated':'text', 'label':'labels'}),\n",
    "    en_test[['text', 'labels']]\n",
    "])\n",
    "test_split_lengths = [('am_test', len(am_test)), ('am_dev', len(am_dev)), ('en_test', len(en_test))]"
   ]
  },
  {
   "cell_type": "code",
   "execution_count": 23,
   "metadata": {},
   "outputs": [
    {
     "name": "stderr",
     "output_type": "stream",
     "text": [
      "Could not locate the tokenizer configuration file, will try to use the model config instead.\n",
      "loading configuration file https://huggingface.co/xlm-roberta-base/resolve/main/config.json from cache at C:\\Users\\Thomas/.cache\\huggingface\\transformers\\87683eb92ea383b0475fecf99970e950a03c9ff5e51648d6eee56fb754612465.dfaaaedc7c1c475302398f09706cbb21e23951b73c6e2b3162c1c8a99bb3b62a\n",
      "Model config XLMRobertaConfig {\n",
      "  \"_name_or_path\": \"xlm-roberta-base\",\n",
      "  \"architectures\": [\n",
      "    \"XLMRobertaForMaskedLM\"\n",
      "  ],\n",
      "  \"attention_probs_dropout_prob\": 0.1,\n",
      "  \"bos_token_id\": 0,\n",
      "  \"classifier_dropout\": null,\n",
      "  \"eos_token_id\": 2,\n",
      "  \"hidden_act\": \"gelu\",\n",
      "  \"hidden_dropout_prob\": 0.1,\n",
      "  \"hidden_size\": 768,\n",
      "  \"initializer_range\": 0.02,\n",
      "  \"intermediate_size\": 3072,\n",
      "  \"layer_norm_eps\": 1e-05,\n",
      "  \"max_position_embeddings\": 514,\n",
      "  \"model_type\": \"xlm-roberta\",\n",
      "  \"num_attention_heads\": 12,\n",
      "  \"num_hidden_layers\": 12,\n",
      "  \"output_past\": true,\n",
      "  \"pad_token_id\": 1,\n",
      "  \"position_embedding_type\": \"absolute\",\n",
      "  \"transformers_version\": \"4.21.3\",\n",
      "  \"type_vocab_size\": 1,\n",
      "  \"use_cache\": true,\n",
      "  \"vocab_size\": 250002\n",
      "}\n",
      "\n",
      "loading file https://huggingface.co/xlm-roberta-base/resolve/main/sentencepiece.bpe.model from cache at C:\\Users\\Thomas/.cache\\huggingface\\transformers\\9df9ae4442348b73950203b63d1b8ed2d18eba68921872aee0c3a9d05b9673c6.00628a9eeb8baf4080d44a0abe9fe8057893de20c7cb6e6423cddbf452f7d4d8\n",
      "loading file https://huggingface.co/xlm-roberta-base/resolve/main/tokenizer.json from cache at C:\\Users\\Thomas/.cache\\huggingface\\transformers\\daeda8d936162ca65fe6dd158ecce1d8cb56c17d89b78ab86be1558eaef1d76a.a984cf52fc87644bd4a2165f1e07e0ac880272c1e82d648b4674907056912bd7\n",
      "loading file https://huggingface.co/xlm-roberta-base/resolve/main/added_tokens.json from cache at None\n",
      "loading file https://huggingface.co/xlm-roberta-base/resolve/main/special_tokens_map.json from cache at None\n",
      "loading file https://huggingface.co/xlm-roberta-base/resolve/main/tokenizer_config.json from cache at None\n",
      "loading configuration file https://huggingface.co/xlm-roberta-base/resolve/main/config.json from cache at C:\\Users\\Thomas/.cache\\huggingface\\transformers\\87683eb92ea383b0475fecf99970e950a03c9ff5e51648d6eee56fb754612465.dfaaaedc7c1c475302398f09706cbb21e23951b73c6e2b3162c1c8a99bb3b62a\n",
      "Model config XLMRobertaConfig {\n",
      "  \"_name_or_path\": \"xlm-roberta-base\",\n",
      "  \"architectures\": [\n",
      "    \"XLMRobertaForMaskedLM\"\n",
      "  ],\n",
      "  \"attention_probs_dropout_prob\": 0.1,\n",
      "  \"bos_token_id\": 0,\n",
      "  \"classifier_dropout\": null,\n",
      "  \"eos_token_id\": 2,\n",
      "  \"hidden_act\": \"gelu\",\n",
      "  \"hidden_dropout_prob\": 0.1,\n",
      "  \"hidden_size\": 768,\n",
      "  \"initializer_range\": 0.02,\n",
      "  \"intermediate_size\": 3072,\n",
      "  \"layer_norm_eps\": 1e-05,\n",
      "  \"max_position_embeddings\": 514,\n",
      "  \"model_type\": \"xlm-roberta\",\n",
      "  \"num_attention_heads\": 12,\n",
      "  \"num_hidden_layers\": 12,\n",
      "  \"output_past\": true,\n",
      "  \"pad_token_id\": 1,\n",
      "  \"position_embedding_type\": \"absolute\",\n",
      "  \"transformers_version\": \"4.21.3\",\n",
      "  \"type_vocab_size\": 1,\n",
      "  \"use_cache\": true,\n",
      "  \"vocab_size\": 250002\n",
      "}\n",
      "\n"
     ]
    },
    {
     "data": {
      "text/plain": [
       "(10176, 4341)"
      ]
     },
     "execution_count": 23,
     "metadata": {},
     "output_type": "execute_result"
    }
   ],
   "source": [
    "\n",
    "label2id = {\"positive\":0, \"neutral\":1, 'negative':2}\n",
    "id2label = {0:\"positive\", 1:\"neutral\", 2:'negative'}\n",
    "\n",
    "tokenizer = AutoTokenizer.from_pretrained(\"xlm-roberta-base\")\n",
    "\n",
    "def encode_batch(row):\n",
    "    text = ' '.join(filter(lambda x:x[0]!='@', row.text.split() if type(row.text)==str else []))\n",
    "    out = tokenizer(text, max_length=100, truncation=True, padding=\"max_length\", return_tensors='pt')\n",
    "    out['labels'] = torch.LongTensor([label2id[row.labels]])[0]\n",
    "    return out\n",
    "\n",
    "train = combined_train.apply(encode_batch, axis=1).reset_index()[0]\n",
    "test = combined_test.apply(encode_batch, axis=1).reset_index()[0]\n",
    "\n",
    "len(train), len(test)"
   ]
  },
  {
   "cell_type": "code",
   "execution_count": 24,
   "metadata": {},
   "outputs": [
    {
     "name": "stderr",
     "output_type": "stream",
     "text": [
      "loading configuration file https://huggingface.co/xlm-roberta-base/resolve/main/config.json from cache at C:\\Users\\Thomas/.cache\\huggingface\\transformers\\87683eb92ea383b0475fecf99970e950a03c9ff5e51648d6eee56fb754612465.dfaaaedc7c1c475302398f09706cbb21e23951b73c6e2b3162c1c8a99bb3b62a\n",
      "Model config XLMRobertaConfig {\n",
      "  \"_name_or_path\": \"xlm-roberta-base\",\n",
      "  \"architectures\": [\n",
      "    \"XLMRobertaForMaskedLM\"\n",
      "  ],\n",
      "  \"attention_probs_dropout_prob\": 0.1,\n",
      "  \"bos_token_id\": 0,\n",
      "  \"classifier_dropout\": null,\n",
      "  \"eos_token_id\": 2,\n",
      "  \"hidden_act\": \"gelu\",\n",
      "  \"hidden_dropout_prob\": 0.1,\n",
      "  \"hidden_size\": 768,\n",
      "  \"initializer_range\": 0.02,\n",
      "  \"intermediate_size\": 3072,\n",
      "  \"layer_norm_eps\": 1e-05,\n",
      "  \"max_position_embeddings\": 514,\n",
      "  \"model_type\": \"xlm-roberta\",\n",
      "  \"num_attention_heads\": 12,\n",
      "  \"num_hidden_layers\": 12,\n",
      "  \"output_past\": true,\n",
      "  \"pad_token_id\": 1,\n",
      "  \"position_embedding_type\": \"absolute\",\n",
      "  \"transformers_version\": \"4.21.3\",\n",
      "  \"type_vocab_size\": 1,\n",
      "  \"use_cache\": true,\n",
      "  \"vocab_size\": 250002\n",
      "}\n",
      "\n",
      "loading weights file https://huggingface.co/xlm-roberta-base/resolve/main/pytorch_model.bin from cache at C:\\Users\\Thomas/.cache\\huggingface\\transformers\\97d0ea09f8074264957d062ec20ccb79af7b917d091add8261b26874daf51b5d.f42212747c1c27fcebaa0a89e2a83c38c6d3d4340f21922f892b88d882146ac2\n",
      "Some weights of the model checkpoint at xlm-roberta-base were not used when initializing XLMRobertaAdapterModel: ['lm_head.bias', 'lm_head.decoder.weight', 'lm_head.layer_norm.weight', 'lm_head.dense.weight', 'lm_head.dense.bias', 'lm_head.layer_norm.bias']\n",
      "- This IS expected if you are initializing XLMRobertaAdapterModel from the checkpoint of a model trained on another task or with another architecture (e.g. initializing a BertForSequenceClassification model from a BertForPreTraining model).\n",
      "- This IS NOT expected if you are initializing XLMRobertaAdapterModel from the checkpoint of a model that you expect to be exactly identical (initializing a BertForSequenceClassification model from a BertForSequenceClassification model).\n",
      "Some weights of XLMRobertaAdapterModel were not initialized from the model checkpoint at xlm-roberta-base and are newly initialized: ['roberta.embeddings.position_ids']\n",
      "You should probably TRAIN this model on a down-stream task to be able to use it for predictions and inference.\n"
     ]
    }
   ],
   "source": [
    "config = AutoConfig.from_pretrained(\n",
    "    \"xlm-roberta-base\",\n",
    ")\n",
    "model = AutoAdapterModel.from_pretrained(\n",
    "    \"xlm-roberta-base\",\n",
    "    config=config,\n",
    ")"
   ]
  },
  {
   "cell_type": "code",
   "execution_count": 25,
   "metadata": {},
   "outputs": [
    {
     "name": "stderr",
     "output_type": "stream",
     "text": [
      "Attempting to load adapter from source 'ah'...\n",
      "Found matching adapter at: adapters/ukp/xlm-roberta-base-en-wiki_pfeiffer.json\n",
      "Resolved adapter files at https://public.ukp.informatik.tu-darmstadt.de/AdapterHub/text_lang/en/xlm-roberta-base/pfeiffer/en_relu_2.zip.\n",
      "Loading module configuration from ~/.cache\\torch\\adapters\\3e9c8c800af886cd1c684a3acf4929990b35f3ac75e050e942de2ff2ecf895fe-caabba7772816577124631d5b84810c4d32f49afcea4fca637162ec7f432174f-extracted\\adapter_config.json\n",
      "Adding adapter 'en'.\n",
      "Loading module weights from ~/.cache\\torch\\adapters\\3e9c8c800af886cd1c684a3acf4929990b35f3ac75e050e942de2ff2ecf895fe-caabba7772816577124631d5b84810c4d32f49afcea4fca637162ec7f432174f-extracted\\pytorch_adapter.bin\n",
      "No matching prediction head found in '~/.cache\\torch\\adapters\\3e9c8c800af886cd1c684a3acf4929990b35f3ac75e050e942de2ff2ecf895fe-caabba7772816577124631d5b84810c4d32f49afcea4fca637162ec7f432174f-extracted'\n",
      "Loading module configuration from am_output/lm_am_6.423\\adapter_config.json\n",
      "Adding adapter 'am_mlm'.\n",
      "Loading module weights from am_output/lm_am_6.423\\pytorch_adapter.bin\n",
      "Loading module configuration from am_output/lm_am_6.423\\head_config.json\n",
      "Adding head 'am_mlm' with config {'head_type': 'masked_lm', 'vocab_size': 250002, 'layers': 2, 'activation_function': 'gelu', 'layer_norm': True, 'bias': True, 'shift_labels': False, 'label2id': None}.\n",
      "Loading module weights from am_output/lm_am_6.423\\pytorch_model_head.bin\n",
      "Some weights of the state_dict could not be loaded into model: lm_head.bias\n",
      "Adding adapter 'sa'.\n",
      "Adding head 'sa' with config {'head_type': 'classification', 'num_labels': 3, 'layers': 2, 'activation_function': 'tanh', 'label2id': {'LABEL_0': 0, 'LABEL_1': 1, 'LABEL_2': 2}, 'use_pooler': False, 'bias': True}.\n"
     ]
    }
   ],
   "source": [
    "lang_adapter_config = AdapterConfig.load(\"pfeiffer\", reduction_factor=2)\n",
    "en = model.load_adapter(\"en/wiki@ukp\", config=lang_adapter_config)\n",
    "task_adapter = model.load_adapter(adapter_loc, config=lang_adapter_config)\n",
    "\n",
    "model.add_adapter(\"sa\")\n",
    "model.train_adapter(\"sa\")\n",
    "\n",
    "model.add_classification_head(\"sa\", num_labels=3)\n",
    "model.set_active_adapters(\"sa\")\n",
    "\n",
    "model.active_adapters = Stack(en, \"sa\")"
   ]
  },
  {
   "cell_type": "code",
   "execution_count": 26,
   "metadata": {},
   "outputs": [
    {
     "name": "stderr",
     "output_type": "stream",
     "text": [
      "PyTorch: setting up devices\n",
      "The default value for the training argument `--report_to` will change in v5 (from all installed integrations to none). In v5, you will need to use `--report_to all` to get the same behavior as now. You should start updating your code and make this info disappear :-).\n"
     ]
    }
   ],
   "source": [
    "import numpy as np\n",
    "from transformers import TrainingArguments, AdapterTrainer, EvalPrediction\n",
    "\n",
    "training_args = TrainingArguments(\n",
    "    learning_rate=1e-4,\n",
    "    num_train_epochs=7,\n",
    "    per_device_train_batch_size=32,\n",
    "    per_device_eval_batch_size=32,\n",
    "    logging_steps=200,\n",
    "    output_dir=\"./training_output\",\n",
    "    overwrite_output_dir=True\n",
    "#     # The next line is important to ensure the dataset labels are properly passed to the model\n",
    "#     remove_unused_columns=False,\n",
    ")\n",
    "\n",
    "def compute_scores(p: EvalPrediction):\n",
    "    preds = np.argmax(p.predictions, axis=1)\n",
    "    i, output = 0, dict()\n",
    "    for name, split_length in test_split_lengths:\n",
    "        s = np.s_[i:i+split_length]\n",
    "        split_preds = preds[s]\n",
    "        split_labels = p.label_ids[s]\n",
    "        output[f'{name}_acc'] = (split_preds==split_labels).mean()\n",
    "        output[f'{name}_weighted_f1'] = f1_score(split_preds, split_labels, average='weighted')\n",
    "        output[f'{name}_balanced_accurancy'] = balanced_accuracy_score(split_preds, split_labels)\n",
    "        i += split_length\n",
    "    return output\n",
    "\n",
    "trainer = AdapterTrainer(\n",
    "    model=model,\n",
    "    args=training_args,\n",
    "    train_dataset=train,\n",
    "    eval_dataset=test,\n",
    "    compute_metrics=compute_scores,\n",
    ")"
   ]
  },
  {
   "cell_type": "code",
   "execution_count": 27,
   "metadata": {
    "scrolled": true
   },
   "outputs": [
    {
     "name": "stderr",
     "output_type": "stream",
     "text": [
      "C:\\Users\\Thomas\\anaconda3\\lib\\site-packages\\transformers\\optimization.py:306: FutureWarning: This implementation of AdamW is deprecated and will be removed in a future version. Use the PyTorch implementation torch.optim.AdamW instead, or set `no_deprecation_warning=True` to disable this warning\n",
      "  warnings.warn(\n",
      "***** Running training *****\n",
      "  Num examples = 10176\n",
      "  Num Epochs = 7\n",
      "  Instantaneous batch size per device = 32\n",
      "  Total train batch size (w. parallel, distributed & accumulation) = 32\n",
      "  Gradient Accumulation steps = 1\n",
      "  Total optimization steps = 2226\n"
     ]
    },
    {
     "data": {
      "text/html": [
       "\n",
       "    <div>\n",
       "      \n",
       "      <progress value='2226' max='2226' style='width:300px; height:20px; vertical-align: middle;'></progress>\n",
       "      [2226/2226 08:19, Epoch 7/7]\n",
       "    </div>\n",
       "    <table border=\"1\" class=\"dataframe\">\n",
       "  <thead>\n",
       " <tr style=\"text-align: left;\">\n",
       "      <th>Step</th>\n",
       "      <th>Training Loss</th>\n",
       "    </tr>\n",
       "  </thead>\n",
       "  <tbody>\n",
       "    <tr>\n",
       "      <td>200</td>\n",
       "      <td>0.872800</td>\n",
       "    </tr>\n",
       "    <tr>\n",
       "      <td>400</td>\n",
       "      <td>0.637900</td>\n",
       "    </tr>\n",
       "    <tr>\n",
       "      <td>600</td>\n",
       "      <td>0.566500</td>\n",
       "    </tr>\n",
       "    <tr>\n",
       "      <td>800</td>\n",
       "      <td>0.549900</td>\n",
       "    </tr>\n",
       "    <tr>\n",
       "      <td>1000</td>\n",
       "      <td>0.525500</td>\n",
       "    </tr>\n",
       "    <tr>\n",
       "      <td>1200</td>\n",
       "      <td>0.509800</td>\n",
       "    </tr>\n",
       "    <tr>\n",
       "      <td>1400</td>\n",
       "      <td>0.473900</td>\n",
       "    </tr>\n",
       "    <tr>\n",
       "      <td>1600</td>\n",
       "      <td>0.489000</td>\n",
       "    </tr>\n",
       "    <tr>\n",
       "      <td>1800</td>\n",
       "      <td>0.469100</td>\n",
       "    </tr>\n",
       "    <tr>\n",
       "      <td>2000</td>\n",
       "      <td>0.462000</td>\n",
       "    </tr>\n",
       "    <tr>\n",
       "      <td>2200</td>\n",
       "      <td>0.458100</td>\n",
       "    </tr>\n",
       "  </tbody>\n",
       "</table><p>"
      ],
      "text/plain": [
       "<IPython.core.display.HTML object>"
      ]
     },
     "metadata": {},
     "output_type": "display_data"
    },
    {
     "name": "stderr",
     "output_type": "stream",
     "text": [
      "Saving model checkpoint to ./training_output\\checkpoint-500\n",
      "Configuration saved in ./training_output\\checkpoint-500\\en\\adapter_config.json\n",
      "Module weights saved in ./training_output\\checkpoint-500\\en\\pytorch_adapter.bin\n",
      "Configuration saved in ./training_output\\checkpoint-500\\am_mlm\\adapter_config.json\n",
      "Module weights saved in ./training_output\\checkpoint-500\\am_mlm\\pytorch_adapter.bin\n",
      "Configuration saved in ./training_output\\checkpoint-500\\am_mlm\\head_config.json\n",
      "Module weights saved in ./training_output\\checkpoint-500\\am_mlm\\pytorch_model_head.bin\n",
      "Configuration saved in ./training_output\\checkpoint-500\\sa\\adapter_config.json\n",
      "Module weights saved in ./training_output\\checkpoint-500\\sa\\pytorch_adapter.bin\n",
      "Configuration saved in ./training_output\\checkpoint-500\\sa\\head_config.json\n",
      "Module weights saved in ./training_output\\checkpoint-500\\sa\\pytorch_model_head.bin\n",
      "Configuration saved in ./training_output\\checkpoint-500\\am_mlm\\head_config.json\n",
      "Module weights saved in ./training_output\\checkpoint-500\\am_mlm\\pytorch_model_head.bin\n",
      "Configuration saved in ./training_output\\checkpoint-500\\sa\\head_config.json\n",
      "Module weights saved in ./training_output\\checkpoint-500\\sa\\pytorch_model_head.bin\n",
      "Saving model checkpoint to ./training_output\\checkpoint-1000\n",
      "Configuration saved in ./training_output\\checkpoint-1000\\en\\adapter_config.json\n",
      "Module weights saved in ./training_output\\checkpoint-1000\\en\\pytorch_adapter.bin\n",
      "Configuration saved in ./training_output\\checkpoint-1000\\am_mlm\\adapter_config.json\n",
      "Module weights saved in ./training_output\\checkpoint-1000\\am_mlm\\pytorch_adapter.bin\n",
      "Configuration saved in ./training_output\\checkpoint-1000\\am_mlm\\head_config.json\n",
      "Module weights saved in ./training_output\\checkpoint-1000\\am_mlm\\pytorch_model_head.bin\n",
      "Configuration saved in ./training_output\\checkpoint-1000\\sa\\adapter_config.json\n",
      "Module weights saved in ./training_output\\checkpoint-1000\\sa\\pytorch_adapter.bin\n",
      "Configuration saved in ./training_output\\checkpoint-1000\\sa\\head_config.json\n",
      "Module weights saved in ./training_output\\checkpoint-1000\\sa\\pytorch_model_head.bin\n",
      "Configuration saved in ./training_output\\checkpoint-1000\\am_mlm\\head_config.json\n",
      "Module weights saved in ./training_output\\checkpoint-1000\\am_mlm\\pytorch_model_head.bin\n",
      "Configuration saved in ./training_output\\checkpoint-1000\\sa\\head_config.json\n",
      "Module weights saved in ./training_output\\checkpoint-1000\\sa\\pytorch_model_head.bin\n",
      "Saving model checkpoint to ./training_output\\checkpoint-1500\n",
      "Configuration saved in ./training_output\\checkpoint-1500\\en\\adapter_config.json\n",
      "Module weights saved in ./training_output\\checkpoint-1500\\en\\pytorch_adapter.bin\n",
      "Configuration saved in ./training_output\\checkpoint-1500\\am_mlm\\adapter_config.json\n",
      "Module weights saved in ./training_output\\checkpoint-1500\\am_mlm\\pytorch_adapter.bin\n",
      "Configuration saved in ./training_output\\checkpoint-1500\\am_mlm\\head_config.json\n",
      "Module weights saved in ./training_output\\checkpoint-1500\\am_mlm\\pytorch_model_head.bin\n",
      "Configuration saved in ./training_output\\checkpoint-1500\\sa\\adapter_config.json\n",
      "Module weights saved in ./training_output\\checkpoint-1500\\sa\\pytorch_adapter.bin\n",
      "Configuration saved in ./training_output\\checkpoint-1500\\sa\\head_config.json\n",
      "Module weights saved in ./training_output\\checkpoint-1500\\sa\\pytorch_model_head.bin\n",
      "Configuration saved in ./training_output\\checkpoint-1500\\am_mlm\\head_config.json\n",
      "Module weights saved in ./training_output\\checkpoint-1500\\am_mlm\\pytorch_model_head.bin\n",
      "Configuration saved in ./training_output\\checkpoint-1500\\sa\\head_config.json\n",
      "Module weights saved in ./training_output\\checkpoint-1500\\sa\\pytorch_model_head.bin\n",
      "Saving model checkpoint to ./training_output\\checkpoint-2000\n",
      "Configuration saved in ./training_output\\checkpoint-2000\\en\\adapter_config.json\n",
      "Module weights saved in ./training_output\\checkpoint-2000\\en\\pytorch_adapter.bin\n",
      "Configuration saved in ./training_output\\checkpoint-2000\\am_mlm\\adapter_config.json\n",
      "Module weights saved in ./training_output\\checkpoint-2000\\am_mlm\\pytorch_adapter.bin\n",
      "Configuration saved in ./training_output\\checkpoint-2000\\am_mlm\\head_config.json\n",
      "Module weights saved in ./training_output\\checkpoint-2000\\am_mlm\\pytorch_model_head.bin\n",
      "Configuration saved in ./training_output\\checkpoint-2000\\sa\\adapter_config.json\n",
      "Module weights saved in ./training_output\\checkpoint-2000\\sa\\pytorch_adapter.bin\n",
      "Configuration saved in ./training_output\\checkpoint-2000\\sa\\head_config.json\n",
      "Module weights saved in ./training_output\\checkpoint-2000\\sa\\pytorch_model_head.bin\n",
      "Configuration saved in ./training_output\\checkpoint-2000\\am_mlm\\head_config.json\n",
      "Module weights saved in ./training_output\\checkpoint-2000\\am_mlm\\pytorch_model_head.bin\n",
      "Configuration saved in ./training_output\\checkpoint-2000\\sa\\head_config.json\n",
      "Module weights saved in ./training_output\\checkpoint-2000\\sa\\pytorch_model_head.bin\n",
      "\n",
      "\n",
      "Training completed. Do not forget to share your model on huggingface.co/models =)\n",
      "\n",
      "\n"
     ]
    },
    {
     "data": {
      "text/plain": [
       "TrainOutput(global_step=2226, training_loss=0.545309661426527, metrics={'train_runtime': 500.1931, 'train_samples_per_second': 142.409, 'train_steps_per_second': 4.45, 'total_flos': 4114009274457600.0, 'train_loss': 0.545309661426527, 'epoch': 7.0})"
      ]
     },
     "execution_count": 27,
     "metadata": {},
     "output_type": "execute_result"
    }
   ],
   "source": [
    "trainer.train()"
   ]
  },
  {
   "cell_type": "code",
   "execution_count": 28,
   "metadata": {},
   "outputs": [
    {
     "name": "stderr",
     "output_type": "stream",
     "text": [
      "***** Running Evaluation *****\n",
      "  Num examples = 4341\n",
      "  Batch size = 32\n"
     ]
    },
    {
     "data": {
      "text/html": [
       "\n",
       "    <div>\n",
       "      \n",
       "      <progress value='136' max='136' style='width:300px; height:20px; vertical-align: middle;'></progress>\n",
       "      [136/136 00:14]\n",
       "    </div>\n",
       "    "
      ],
      "text/plain": [
       "<IPython.core.display.HTML object>"
      ]
     },
     "metadata": {},
     "output_type": "display_data"
    },
    {
     "data": {
      "text/plain": [
       "{'eval_loss': 0.9375244379043579,\n",
       " 'eval_am_test_acc': 0.48872180451127817,\n",
       " 'eval_am_test_weighted_f1': 0.4814607164216763,\n",
       " 'eval_am_test_balanced_accurancy': 0.4749860692959444,\n",
       " 'eval_am_dev_acc': 0.5008347245409015,\n",
       " 'eval_am_dev_weighted_f1': 0.4979691973669414,\n",
       " 'eval_am_dev_balanced_accurancy': 0.4836828942903495,\n",
       " 'eval_en_test_acc': 0.7728880157170923,\n",
       " 'eval_en_test_weighted_f1': 0.7723368193497595,\n",
       " 'eval_en_test_balanced_accurancy': 0.7552755931073509,\n",
       " 'eval_runtime': 14.5884,\n",
       " 'eval_samples_per_second': 297.564,\n",
       " 'eval_steps_per_second': 9.322,\n",
       " 'epoch': 7.0}"
      ]
     },
     "execution_count": 28,
     "metadata": {},
     "output_type": "execute_result"
    }
   ],
   "source": [
    "trainer.evaluate()"
   ]
  },
  {
   "cell_type": "code",
   "execution_count": 29,
   "metadata": {},
   "outputs": [
    {
     "data": {
      "text/plain": [
       "274"
      ]
     },
     "execution_count": 29,
     "metadata": {},
     "output_type": "execute_result"
    }
   ],
   "source": [
    "del trainer\n",
    "gc.collect()"
   ]
  },
  {
   "cell_type": "code",
   "execution_count": 30,
   "metadata": {},
   "outputs": [],
   "source": [
    "model.active_adapters = Stack(task_adapter, \"sa\")"
   ]
  },
  {
   "cell_type": "code",
   "execution_count": 32,
   "metadata": {},
   "outputs": [],
   "source": [
    "combined_test = pd.concat([\n",
    "    am_test[['tweet', 'label']].rename(columns={'tweet':'text', 'label':'labels'}),\n",
    "    am_dev[['tweet', 'label']].rename(columns={'tweet':'text', 'label':'labels'}),\n",
    "#     en_test[['translated', 'labels']].rename(columns={'translated':'text'})\n",
    "])\n",
    "test = combined_test.apply(encode_batch, axis=1).reset_index()[0]"
   ]
  },
  {
   "cell_type": "code",
   "execution_count": 33,
   "metadata": {},
   "outputs": [
    {
     "name": "stderr",
     "output_type": "stream",
     "text": [
      "PyTorch: setting up devices\n",
      "The default value for the training argument `--report_to` will change in v5 (from all installed integrations to none). In v5, you will need to use `--report_to all` to get the same behavior as now. You should start updating your code and make this info disappear :-).\n",
      "***** Running Evaluation *****\n",
      "  Num examples = 1796\n",
      "  Batch size = 8\n"
     ]
    },
    {
     "data": {
      "text/html": [
       "\n",
       "    <div>\n",
       "      \n",
       "      <progress value='225' max='225' style='width:300px; height:20px; vertical-align: middle;'></progress>\n",
       "      [225/225 00:06]\n",
       "    </div>\n",
       "    "
      ],
      "text/plain": [
       "<IPython.core.display.HTML object>"
      ]
     },
     "metadata": {},
     "output_type": "display_data"
    },
    {
     "name": "stderr",
     "output_type": "stream",
     "text": [
      "C:\\Users\\Thomas\\AppData\\Local\\Temp\\ipykernel_18464\\3147666310.py:23: RuntimeWarning: Mean of empty slice.\n",
      "  output[f'{name}_acc'] = (split_preds==split_labels).mean()\n",
      "C:\\Users\\Thomas\\anaconda3\\lib\\site-packages\\numpy\\core\\_methods.py:189: RuntimeWarning: invalid value encountered in double_scalars\n",
      "  ret = ret.dtype.type(ret / rcount)\n",
      "C:\\Users\\Thomas\\anaconda3\\lib\\site-packages\\numpy\\core\\fromnumeric.py:3440: RuntimeWarning: Mean of empty slice.\n",
      "  return _methods._mean(a, axis=axis, dtype=dtype,\n",
      "C:\\Users\\Thomas\\anaconda3\\lib\\site-packages\\numpy\\core\\_methods.py:189: RuntimeWarning: invalid value encountered in double_scalars\n",
      "  ret = ret.dtype.type(ret / rcount)\n"
     ]
    },
    {
     "data": {
      "text/plain": [
       "{'eval_loss': 1.2036296129226685,\n",
       " 'eval_am_test_acc': 0.5764411027568922,\n",
       " 'eval_am_test_weighted_f1': 0.5882240998528119,\n",
       " 'eval_am_test_balanced_accurancy': 0.544426904813819,\n",
       " 'eval_am_dev_acc': 0.5575959933222037,\n",
       " 'eval_am_dev_weighted_f1': 0.5692377152677427,\n",
       " 'eval_am_dev_balanced_accurancy': 0.5388372830536815,\n",
       " 'eval_en_test_acc': nan,\n",
       " 'eval_en_test_weighted_f1': 0.0,\n",
       " 'eval_en_test_balanced_accurancy': nan,\n",
       " 'eval_runtime': 6.651,\n",
       " 'eval_samples_per_second': 270.033,\n",
       " 'eval_steps_per_second': 33.829}"
      ]
     },
     "execution_count": 33,
     "metadata": {},
     "output_type": "execute_result"
    }
   ],
   "source": [
    "eval_trainer = AdapterTrainer(\n",
    "    model=model,\n",
    "    args=TrainingArguments(output_dir=\"./eval_output\", remove_unused_columns=False,),\n",
    "    eval_dataset=test,\n",
    "    compute_metrics=compute_scores\n",
    ")\n",
    "eval_trainer.evaluate()"
   ]
  },
  {
   "cell_type": "code",
   "execution_count": 34,
   "metadata": {},
   "outputs": [
    {
     "name": "stderr",
     "output_type": "stream",
     "text": [
      "loading configuration file https://huggingface.co/xlm-roberta-base/resolve/main/config.json from cache at C:\\Users\\Thomas/.cache\\huggingface\\transformers\\87683eb92ea383b0475fecf99970e950a03c9ff5e51648d6eee56fb754612465.dfaaaedc7c1c475302398f09706cbb21e23951b73c6e2b3162c1c8a99bb3b62a\n",
      "Model config XLMRobertaConfig {\n",
      "  \"_name_or_path\": \"xlm-roberta-base\",\n",
      "  \"architectures\": [\n",
      "    \"XLMRobertaForMaskedLM\"\n",
      "  ],\n",
      "  \"attention_probs_dropout_prob\": 0.1,\n",
      "  \"bos_token_id\": 0,\n",
      "  \"classifier_dropout\": null,\n",
      "  \"eos_token_id\": 2,\n",
      "  \"hidden_act\": \"gelu\",\n",
      "  \"hidden_dropout_prob\": 0.1,\n",
      "  \"hidden_size\": 768,\n",
      "  \"initializer_range\": 0.02,\n",
      "  \"intermediate_size\": 3072,\n",
      "  \"layer_norm_eps\": 1e-05,\n",
      "  \"max_position_embeddings\": 514,\n",
      "  \"model_type\": \"xlm-roberta\",\n",
      "  \"num_attention_heads\": 12,\n",
      "  \"num_hidden_layers\": 12,\n",
      "  \"output_past\": true,\n",
      "  \"pad_token_id\": 1,\n",
      "  \"position_embedding_type\": \"absolute\",\n",
      "  \"transformers_version\": \"4.21.3\",\n",
      "  \"type_vocab_size\": 1,\n",
      "  \"use_cache\": true,\n",
      "  \"vocab_size\": 250002\n",
      "}\n",
      "\n",
      "loading weights file https://huggingface.co/xlm-roberta-base/resolve/main/pytorch_model.bin from cache at C:\\Users\\Thomas/.cache\\huggingface\\transformers\\97d0ea09f8074264957d062ec20ccb79af7b917d091add8261b26874daf51b5d.f42212747c1c27fcebaa0a89e2a83c38c6d3d4340f21922f892b88d882146ac2\n",
      "Some weights of the model checkpoint at xlm-roberta-base were not used when initializing XLMRobertaAdapterModel: ['lm_head.bias', 'lm_head.decoder.weight', 'lm_head.layer_norm.weight', 'lm_head.dense.weight', 'lm_head.dense.bias', 'lm_head.layer_norm.bias']\n",
      "- This IS expected if you are initializing XLMRobertaAdapterModel from the checkpoint of a model trained on another task or with another architecture (e.g. initializing a BertForSequenceClassification model from a BertForPreTraining model).\n",
      "- This IS NOT expected if you are initializing XLMRobertaAdapterModel from the checkpoint of a model that you expect to be exactly identical (initializing a BertForSequenceClassification model from a BertForSequenceClassification model).\n",
      "Some weights of XLMRobertaAdapterModel were not initialized from the model checkpoint at xlm-roberta-base and are newly initialized: ['roberta.embeddings.position_ids']\n",
      "You should probably TRAIN this model on a down-stream task to be able to use it for predictions and inference.\n"
     ]
    }
   ],
   "source": [
    "config = AutoConfig.from_pretrained(\n",
    "    \"xlm-roberta-base\",\n",
    ")\n",
    "model = AutoAdapterModel.from_pretrained(\n",
    "    \"xlm-roberta-base\",\n",
    "    config=config,\n",
    ")"
   ]
  },
  {
   "cell_type": "code",
   "execution_count": 35,
   "metadata": {},
   "outputs": [
    {
     "name": "stderr",
     "output_type": "stream",
     "text": [
      "Loading module configuration from am_output/lm_am_6.423\\adapter_config.json\n",
      "Adding adapter 'am_mlm'.\n",
      "Loading module weights from am_output/lm_am_6.423\\pytorch_adapter.bin\n",
      "Loading module configuration from am_output/lm_am_6.423\\head_config.json\n",
      "Adding head 'am_mlm' with config {'head_type': 'masked_lm', 'vocab_size': 250002, 'layers': 2, 'activation_function': 'gelu', 'layer_norm': True, 'bias': True, 'shift_labels': False, 'label2id': None}.\n",
      "Loading module weights from am_output/lm_am_6.423\\pytorch_model_head.bin\n",
      "Some weights of the state_dict could not be loaded into model: lm_head.bias\n",
      "Adding adapter 'sa'.\n",
      "Adding head 'sa' with config {'head_type': 'classification', 'num_labels': 3, 'layers': 2, 'activation_function': 'tanh', 'label2id': {'LABEL_0': 0, 'LABEL_1': 1, 'LABEL_2': 2}, 'use_pooler': False, 'bias': True}.\n"
     ]
    }
   ],
   "source": [
    "lang_adapter_config = AdapterConfig.load(\"pfeiffer\", reduction_factor=2)\n",
    "# en = model.load_adapter(\"en/wiki@ukp\", config=lang_adapter_config)\n",
    "task_adapter = model.load_adapter(adapter_loc, config=lang_adapter_config)\n",
    "\n",
    "model.add_adapter(\"sa\")\n",
    "model.train_adapter(\"sa\")\n",
    "\n",
    "model.add_classification_head(\"sa\", num_labels=3)\n",
    "model.set_active_adapters(\"sa\")\n",
    "\n",
    "model.active_adapters = Stack(task_adapter, \"sa\")"
   ]
  },
  {
   "cell_type": "code",
   "execution_count": 36,
   "metadata": {},
   "outputs": [],
   "source": [
    "combined_train = pd.concat([\n",
    "    am_train[['tweet', 'label']].rename(columns={'tweet':'text', 'label':'labels'})\n",
    "#     en_train[['translated', 'labels']].rename(columns={'translated':'text'})\n",
    "])\n",
    "\n",
    "train = combined_train.apply(encode_batch, axis=1).reset_index()[0]"
   ]
  },
  {
   "cell_type": "code",
   "execution_count": 37,
   "metadata": {},
   "outputs": [
    {
     "name": "stderr",
     "output_type": "stream",
     "text": [
      "PyTorch: setting up devices\n",
      "The default value for the training argument `--report_to` will change in v5 (from all installed integrations to none). In v5, you will need to use `--report_to all` to get the same behavior as now. You should start updating your code and make this info disappear :-).\n"
     ]
    }
   ],
   "source": [
    "training_args = TrainingArguments(\n",
    "    learning_rate=1e-4,\n",
    "    num_train_epochs=7,\n",
    "    per_device_train_batch_size=32,\n",
    "    per_device_eval_batch_size=32,\n",
    "    logging_steps=200,\n",
    "    output_dir=\"./training_output\",\n",
    "    overwrite_output_dir=True\n",
    ")\n",
    "\n",
    "trainer = AdapterTrainer(\n",
    "    model=model,\n",
    "    args=training_args,\n",
    "    train_dataset=train,\n",
    "    eval_dataset=test,\n",
    "    compute_metrics=compute_scores,\n",
    ")"
   ]
  },
  {
   "cell_type": "code",
   "execution_count": 38,
   "metadata": {},
   "outputs": [
    {
     "name": "stderr",
     "output_type": "stream",
     "text": [
      "C:\\Users\\Thomas\\anaconda3\\lib\\site-packages\\transformers\\optimization.py:306: FutureWarning: This implementation of AdamW is deprecated and will be removed in a future version. Use the PyTorch implementation torch.optim.AdamW instead, or set `no_deprecation_warning=True` to disable this warning\n",
      "  warnings.warn(\n",
      "***** Running training *****\n",
      "  Num examples = 4188\n",
      "  Num Epochs = 7\n",
      "  Instantaneous batch size per device = 32\n",
      "  Total train batch size (w. parallel, distributed & accumulation) = 32\n",
      "  Gradient Accumulation steps = 1\n",
      "  Total optimization steps = 917\n"
     ]
    },
    {
     "data": {
      "text/html": [
       "\n",
       "    <div>\n",
       "      \n",
       "      <progress value='917' max='917' style='width:300px; height:20px; vertical-align: middle;'></progress>\n",
       "      [917/917 03:11, Epoch 7/7]\n",
       "    </div>\n",
       "    <table border=\"1\" class=\"dataframe\">\n",
       "  <thead>\n",
       " <tr style=\"text-align: left;\">\n",
       "      <th>Step</th>\n",
       "      <th>Training Loss</th>\n",
       "    </tr>\n",
       "  </thead>\n",
       "  <tbody>\n",
       "    <tr>\n",
       "      <td>200</td>\n",
       "      <td>1.014600</td>\n",
       "    </tr>\n",
       "    <tr>\n",
       "      <td>400</td>\n",
       "      <td>0.912100</td>\n",
       "    </tr>\n",
       "    <tr>\n",
       "      <td>600</td>\n",
       "      <td>0.878300</td>\n",
       "    </tr>\n",
       "    <tr>\n",
       "      <td>800</td>\n",
       "      <td>0.867000</td>\n",
       "    </tr>\n",
       "  </tbody>\n",
       "</table><p>"
      ],
      "text/plain": [
       "<IPython.core.display.HTML object>"
      ]
     },
     "metadata": {},
     "output_type": "display_data"
    },
    {
     "name": "stderr",
     "output_type": "stream",
     "text": [
      "Saving model checkpoint to ./training_output\\checkpoint-500\n",
      "Configuration saved in ./training_output\\checkpoint-500\\am_mlm\\adapter_config.json\n",
      "Module weights saved in ./training_output\\checkpoint-500\\am_mlm\\pytorch_adapter.bin\n",
      "Configuration saved in ./training_output\\checkpoint-500\\am_mlm\\head_config.json\n",
      "Module weights saved in ./training_output\\checkpoint-500\\am_mlm\\pytorch_model_head.bin\n",
      "Configuration saved in ./training_output\\checkpoint-500\\sa\\adapter_config.json\n",
      "Module weights saved in ./training_output\\checkpoint-500\\sa\\pytorch_adapter.bin\n",
      "Configuration saved in ./training_output\\checkpoint-500\\sa\\head_config.json\n",
      "Module weights saved in ./training_output\\checkpoint-500\\sa\\pytorch_model_head.bin\n",
      "Configuration saved in ./training_output\\checkpoint-500\\am_mlm\\head_config.json\n",
      "Module weights saved in ./training_output\\checkpoint-500\\am_mlm\\pytorch_model_head.bin\n",
      "Configuration saved in ./training_output\\checkpoint-500\\sa\\head_config.json\n",
      "Module weights saved in ./training_output\\checkpoint-500\\sa\\pytorch_model_head.bin\n",
      "\n",
      "\n",
      "Training completed. Do not forget to share your model on huggingface.co/models =)\n",
      "\n",
      "\n"
     ]
    },
    {
     "data": {
      "text/plain": [
       "TrainOutput(global_step=917, training_loss=0.9089419116370681, metrics={'train_runtime': 191.7851, 'train_samples_per_second': 152.859, 'train_steps_per_second': 4.781, 'total_flos': 1563199660159200.0, 'train_loss': 0.9089419116370681, 'epoch': 7.0})"
      ]
     },
     "execution_count": 38,
     "metadata": {},
     "output_type": "execute_result"
    }
   ],
   "source": [
    "\n",
    "trainer.train()"
   ]
  },
  {
   "cell_type": "code",
   "execution_count": 39,
   "metadata": {},
   "outputs": [
    {
     "name": "stderr",
     "output_type": "stream",
     "text": [
      "***** Running Evaluation *****\n",
      "  Num examples = 1796\n",
      "  Batch size = 32\n"
     ]
    },
    {
     "data": {
      "text/html": [
       "\n",
       "    <div>\n",
       "      \n",
       "      <progress value='57' max='57' style='width:300px; height:20px; vertical-align: middle;'></progress>\n",
       "      [57/57 00:05]\n",
       "    </div>\n",
       "    "
      ],
      "text/plain": [
       "<IPython.core.display.HTML object>"
      ]
     },
     "metadata": {},
     "output_type": "display_data"
    },
    {
     "name": "stderr",
     "output_type": "stream",
     "text": [
      "C:\\Users\\Thomas\\AppData\\Local\\Temp\\ipykernel_18464\\3147666310.py:23: RuntimeWarning: Mean of empty slice.\n",
      "  output[f'{name}_acc'] = (split_preds==split_labels).mean()\n",
      "C:\\Users\\Thomas\\anaconda3\\lib\\site-packages\\numpy\\core\\_methods.py:189: RuntimeWarning: invalid value encountered in double_scalars\n",
      "  ret = ret.dtype.type(ret / rcount)\n",
      "C:\\Users\\Thomas\\anaconda3\\lib\\site-packages\\numpy\\core\\fromnumeric.py:3440: RuntimeWarning: Mean of empty slice.\n",
      "  return _methods._mean(a, axis=axis, dtype=dtype,\n",
      "C:\\Users\\Thomas\\anaconda3\\lib\\site-packages\\numpy\\core\\_methods.py:189: RuntimeWarning: invalid value encountered in double_scalars\n",
      "  ret = ret.dtype.type(ret / rcount)\n"
     ]
    },
    {
     "data": {
      "text/plain": [
       "{'eval_loss': 0.8390172719955444,\n",
       " 'eval_am_test_acc': 0.631578947368421,\n",
       " 'eval_am_test_weighted_f1': 0.6565461977236483,\n",
       " 'eval_am_test_balanced_accurancy': 0.6081060606060606,\n",
       " 'eval_am_dev_acc': 0.6076794657762938,\n",
       " 'eval_am_dev_weighted_f1': 0.6293359375035844,\n",
       " 'eval_am_dev_balanced_accurancy': 0.6080657640112702,\n",
       " 'eval_en_test_acc': nan,\n",
       " 'eval_en_test_weighted_f1': 0.0,\n",
       " 'eval_en_test_balanced_accurancy': nan,\n",
       " 'eval_runtime': 5.7778,\n",
       " 'eval_samples_per_second': 310.847,\n",
       " 'eval_steps_per_second': 9.865,\n",
       " 'epoch': 7.0}"
      ]
     },
     "execution_count": 39,
     "metadata": {},
     "output_type": "execute_result"
    }
   ],
   "source": [
    "trainer.evaluate()"
   ]
  },
  {
   "cell_type": "code",
   "execution_count": null,
   "metadata": {},
   "outputs": [],
   "source": []
  }
 ],
 "metadata": {
  "colab": {
   "provenance": []
  },
  "kernelspec": {
   "display_name": "Python 3 (ipykernel)",
   "language": "python",
   "name": "python3"
  },
  "language_info": {
   "codemirror_mode": {
    "name": "ipython",
    "version": 3
   },
   "file_extension": ".py",
   "mimetype": "text/x-python",
   "name": "python",
   "nbconvert_exporter": "python",
   "pygments_lexer": "ipython3",
   "version": "3.9.12"
  }
 },
 "nbformat": 4,
 "nbformat_minor": 1
}
